{
 "cells": [
  {
   "cell_type": "code",
   "execution_count": null,
   "metadata": {},
   "outputs": [],
   "source": [
    "# Import pandas\n",
    "import pandas as pd\n",
    "\n",
    "# Read in the file content in a DataFrame called discoveries\n",
    "discoveries = pd.read_csv(url_discoveries)\n",
    "\n",
    "discoveries['date'] = pd.to_datetime(discoveries['date'])\n",
    "\n",
    "# Set the date column as the index of your DataFrame discoveries\n",
    "discoveries = discoveries.set_index('date')\n",
    "\n",
    "# Plot the time series in your DataFrame\n",
    "ax = discoveries.plot(color='blue')\n",
    "\n",
    "# Specify the x-axis label in your plot\n",
    "ax.set_xlabel('Date')\n",
    "\n",
    "# Specify the y-axis label in your plot\n",
    "ax.set_ylabel('Number of great discoveries')\n",
    "\n",
    "# Show plot\n",
    "plt.show()"
   ]
  },
  {
   "cell_type": "code",
   "execution_count": null,
   "metadata": {},
   "outputs": [],
   "source": [
    "# Import the matplotlib.pyplot sub-module\n",
    "import matplotlib.pyplot as plt\n",
    "\n",
    "# Use the fivethirtyeight style\n",
    "plt.style.use('fivethirtyeight')\n",
    "\n",
    "# Plot the time series\n",
    "ax1 = discoveries.plot()\n",
    "ax1.set_title('FiveThirtyEight Style')\n",
    "plt.show()"
   ]
  },
  {
   "cell_type": "code",
   "execution_count": null,
   "metadata": {},
   "outputs": [],
   "source": [
    "# Import the matplotlib.pyplot sub-module\n",
    "import matplotlib.pyplot as plt\n",
    "\n",
    "# Use the ggplot style\n",
    "plt.style.use('ggplot')\n",
    "ax2 = discoveries.plot()\n",
    "\n",
    "# Set the title\n",
    "ax2.set_title('ggplot Style')\n",
    "plt.show()"
   ]
  },
  {
   "cell_type": "code",
   "execution_count": null,
   "metadata": {},
   "outputs": [],
   "source": [
    "# Plot a line chart of the discoveries DataFrame using the specified arguments\n",
    "ax = discoveries.plot(color='blue', figsize=(8, 3), linewidth=2, fontsize=6)\n",
    "\n",
    "# Specify the title in your plot\n",
    "ax.set_title('Number of great inventions and scientific discoveries from 1860 to 1959', fontsize=8)\n",
    "\n",
    "# Show plot\n",
    "plt.show()"
   ]
  },
  {
   "cell_type": "code",
   "execution_count": null,
   "metadata": {},
   "outputs": [],
   "source": [
    "# Select the subset of data between 1945 and 1950\n",
    "discoveries_subset_1 = discoveries['1945-01-01':'1950-01-01']\n",
    "\n",
    "# Plot the time series in your DataFrame as a blue area chart\n",
    "ax = discoveries_subset_1.plot(color='blue', fontsize=15)\n",
    "\n",
    "# Show plot\n",
    "plt.show()"
   ]
  },
  {
   "cell_type": "code",
   "execution_count": null,
   "metadata": {},
   "outputs": [],
   "source": [
    "# Select the subset of data between 1939 and 1958\n",
    "discoveries_subset_2 = discoveries['1939-01-01':'1958-01-01']\n",
    "\n",
    "# Plot the time series in your DataFrame as a blue area chart\n",
    "ax = discoveries_subset_2.plot(color='blue', fontsize=15)\n",
    "\n",
    "# Show plot\n",
    "plt.show()"
   ]
  },
  {
   "cell_type": "code",
   "execution_count": null,
   "metadata": {},
   "outputs": [],
   "source": [
    "# Plot your the discoveries time series\n",
    "ax = discoveries.plot(color='blue', fontsize=6)\n",
    "\n",
    "# Add a red vertical line\n",
    "ax.axvline('1939-01-01', color='red', linestyle='--')\n",
    "\n",
    "# Add a green horizontal line\n",
    "ax.axhline(4, color='green', linestyle='--')\n",
    "\n",
    "plt.show()"
   ]
  },
  {
   "cell_type": "code",
   "execution_count": null,
   "metadata": {},
   "outputs": [],
   "source": [
    "# Plot your the discoveries time series\n",
    "ax = discoveries.plot(color='blue', fontsize=6)\n",
    "\n",
    "# Add a vertical red shaded region\n",
    "ax.axvspan('1900-01-01', '1915-01-01', color='red', alpha=0.3)\n",
    "\n",
    "# Add a horizontal green shaded region\n",
    "ax.axhspan(6, 8, color='green', alpha=0.3)\n",
    "\n",
    "plt.show()"
   ]
  },
  {
   "cell_type": "markdown",
   "metadata": {},
   "source": [
    "## Moving average"
   ]
  },
  {
   "cell_type": "code",
   "execution_count": null,
   "metadata": {},
   "outputs": [],
   "source": [
    "# Compute the 52 weeks rolling mean of the co2_levels DataFrame\n",
    "ma = co2_levels.rolling(window=52).mean()\n",
    "\n",
    "# Compute the 52 weeks rolling standard deviation of the co2_levels DataFrame\n",
    "mstd = co2_levels.rolling(window=52).std()\n",
    "\n",
    "# Add the upper bound column to the ma DataFrame\n",
    "ma['upper'] = ma['co2'] + (2 * mstd['co2'])\n",
    "\n",
    "# Add the lower bound column to the ma DataFrame\n",
    "ma['lower'] = ma['co2'] - (2 * mstd['co2'])\n",
    "\n",
    "# Plot the content of the ma DataFrame\n",
    "ax = ma.plot(linewidth=0.8, fontsize=6)\n",
    "\n",
    "# Specify labels, legend, and show the plot\n",
    "ax.set_xlabel('Date', fontsize=10)\n",
    "ax.set_ylabel('CO2 levels in Mauai Hawaii', fontsize=10)\n",
    "ax.set_title('Rolling mean and variance of CO2 levels\\nin Mauai Hawaii from 1958 to 2001', fontsize=10)\n",
    "plt.show()"
   ]
  },
  {
   "cell_type": "markdown",
   "metadata": {},
   "source": [
    "### Grouping by month"
   ]
  },
  {
   "cell_type": "code",
   "execution_count": null,
   "metadata": {},
   "outputs": [],
   "source": [
    "# Get month for each dates in the index of co2_levels\n",
    "index_month = co2_levels.index.month\n",
    "\n",
    "# Compute the mean CO2 levels for each month of the year\n",
    "mean_co2_levels_by_month = co2_levels.groupby(index_month).mean()\n",
    "\n",
    "# Plot the mean CO2 levels for each month of the year\n",
    "mean_co2_levels_by_month.plot(fontsize=6)\n",
    "\n",
    "# Specify the fontsize on the legend\n",
    "plt.legend(fontsize=10)\n",
    "\n",
    "# Show plot\n",
    "plt.show()"
   ]
  },
  {
   "cell_type": "markdown",
   "metadata": {},
   "source": [
    "### Summary statistics, and statiscs plots"
   ]
  },
  {
   "cell_type": "code",
   "execution_count": null,
   "metadata": {},
   "outputs": [],
   "source": [
    "print(co2_levels.describe())\n",
    "\n",
    "# Generate a histogram\n",
    "ax = co2_levels.plot(kind='hist', bins=50, fontsize=6)\n",
    "\n",
    "# Set the labels and display the plot\n",
    "ax.set_xlabel('CO2', fontsize=10)\n",
    "ax.set_ylabel('Histogram of CO2 levels in Maui Hawaii', fontsize=10)\n",
    "plt.legend(fontsize=10)\n",
    "plt.show()"
   ]
  },
  {
   "cell_type": "code",
   "execution_count": null,
   "metadata": {},
   "outputs": [],
   "source": [
    "# Display density plot of CO2 levels values\n",
    "ax = co2_levels.plot(kind='density', linewidth=4, fontsize=6)\n",
    "\n",
    "# Annotate x-axis labels\n",
    "ax.set_xlabel('CO2', fontsize=10)\n",
    "\n",
    "# Annotate y-axis labels\n",
    "ax.set_ylabel('Density plot of CO2 levels in Maui Hawaii', fontsize=10)\n",
    "\n",
    "plt.show()"
   ]
  },
  {
   "cell_type": "markdown",
   "metadata": {},
   "source": [
    "## Plotting autocorrelation"
   ]
  },
  {
   "cell_type": "code",
   "execution_count": null,
   "metadata": {},
   "outputs": [],
   "source": [
    "# Import required libraries\n",
    "import matplotlib.pyplot as plt\n",
    "plt.style.use('fivethirtyeight')\n",
    "from statsmodels.graphics import tsaplots\n",
    "\n",
    "# Display the autocorrelation plot of your time series\n",
    "fig = tsaplots.plot_acf(co2_levels['co2'], lags=24)\n",
    "\n",
    "# Display the partical autocorrelation plot of your time series\n",
    "fig = tsaplots.plot_pacf(co2_levels['co2'], lags=24)\n",
    "\n",
    "\n",
    "# Show plot\n",
    "plt.show()"
   ]
  },
  {
   "cell_type": "markdown",
   "metadata": {},
   "source": [
    "### Seasonality, trend and noise in time series data\n",
    "\n",
    "* seasonality: does the data display a clear periodic pattern?\n",
    "* trend: does the data follow a consistent upwards or downward slope?\n",
    "* noise: are there any outlier points or missing values that are not consistent with the rest of the data?\n"
   ]
  },
  {
   "cell_type": "markdown",
   "metadata": {},
   "source": [
    "#### Time series frequency decomposition"
   ]
  },
  {
   "cell_type": "code",
   "execution_count": null,
   "metadata": {},
   "outputs": [],
   "source": [
    "# Import statsmodels.api as sm\n",
    "import statsmodels.api as sm\n",
    "\n",
    "# Perform time series decompositon\n",
    "decomposition = sm.tsa.seasonal_decompose(co2_levels)\n",
    "\n",
    "# Print the seasonality component\n",
    "print(decomposition.seasonal)\n",
    "\n",
    "# Extract the trend component\n",
    "trend = decomposition.trend\n",
    "\n",
    "# Plot the values of the trend\n",
    "ax = trend.plot(figsize=(12, 6), fontsize=6)\n",
    "\n",
    "# Specify axis labels\n",
    "ax.set_xlabel('Date', fontsize=10)\n",
    "ax.set_title('Seasonal component the CO2 time-series', fontsize=10)\n",
    "plt.show()"
   ]
  },
  {
   "cell_type": "markdown",
   "metadata": {},
   "source": [
    "## Multiple time series"
   ]
  },
  {
   "cell_type": "markdown",
   "metadata": {},
   "source": [
    "### Area charts"
   ]
  },
  {
   "cell_type": "code",
   "execution_count": null,
   "metadata": {},
   "outputs": [],
   "source": [
    "# Plot an area chart\n",
    "ax = meat.plot.area(fontsize=12)\n",
    "\n",
    "# Additional customizations\n",
    "ax.set_xlabel('Date')\n",
    "ax.legend(fontsize=15)\n",
    "\n",
    "# Show plot\n",
    "plt.show()"
   ]
  },
  {
   "cell_type": "markdown",
   "metadata": {},
   "source": [
    "### colormap"
   ]
  },
  {
   "cell_type": "code",
   "execution_count": null,
   "metadata": {},
   "outputs": [],
   "source": [
    "# Plot time series dataset using the cubehelix color palette\n",
    "ax = meat.plot(colormap = 'PuOr', fontsize=15)\n",
    "\n",
    "# Additional customizations\n",
    "ax.set_xlabel('Date')\n",
    "ax.legend(fontsize=18)\n",
    "\n",
    "# Show plot\n",
    "plt.show()"
   ]
  },
  {
   "cell_type": "markdown",
   "metadata": {},
   "source": [
    "### plotting table with graph"
   ]
  },
  {
   "cell_type": "code",
   "execution_count": null,
   "metadata": {},
   "outputs": [],
   "source": [
    "# Plot the meat data\n",
    "ax = meat.plot(fontsize=6, linewidth=1)\n",
    "\n",
    "# Add x-axis labels\n",
    "ax.set_xlabel('Date', fontsize=6)\n",
    "\n",
    "# Add summary table information to the plot\n",
    "ax.table(cellText=meat_mean.values,\n",
    "         colWidths = [0.15]*len(meat_mean.columns),\n",
    "         rowLabels=meat_mean.index.values,\n",
    "         colLabels=meat_mean.columns,\n",
    "         loc='top')\n",
    "\n",
    "# Specify the fontsize and location of your legend\n",
    "ax.legend(loc='upper center', bbox_to_anchor=(0.5, 0.95), ncol=3, fontsize=6)\n",
    "\n",
    "# Show plot\n",
    "plt.show()"
   ]
  },
  {
   "cell_type": "markdown",
   "metadata": {},
   "source": [
    "### Using subplots"
   ]
  },
  {
   "cell_type": "code",
   "execution_count": null,
   "metadata": {},
   "outputs": [],
   "source": [
    "# Create a facetted graph with 2 rows and 4 columns\n",
    "meat.plot(subplots=True, \n",
    "          layout=(2,4), \n",
    "          sharex=False, \n",
    "          sharey=False, \n",
    "          colormap='viridis', \n",
    "          fontsize=2, \n",
    "          legend=False, \n",
    "          linewidth=0.2)\n",
    "\n",
    "plt.show()"
   ]
  },
  {
   "cell_type": "markdown",
   "metadata": {},
   "source": [
    "### plotting correlation between variables"
   ]
  },
  {
   "cell_type": "code",
   "execution_count": null,
   "metadata": {},
   "outputs": [],
   "source": [
    "# Import seaborn library\n",
    "import seaborn as sns\n",
    "\n",
    "# Get correlation matrix of the meat DataFrame: corr_meat\n",
    "corr_meat = meat.corr(method='spearman')\n",
    "\n",
    "\n",
    "# Customize the heatmap of the corr_meat correlation matrix\n",
    "sns.heatmap(corr_meat,\n",
    "            annot=True,\n",
    "            linewidths=0.4,\n",
    "            annot_kws={\"size\": 10})\n",
    "\n",
    "plt.xticks(rotation=90)\n",
    "plt.yticks(rotation=0) \n",
    "plt.show()\n",
    "\n",
    "#or\n",
    "# Customize the heatmap of the corr_meat correlation matrix and rotate the x-axis labels\n",
    "fig = sns.clustermap(corr_meat,\n",
    "                     row_cluster=True,\n",
    "                     col_cluster=True,\n",
    "                     figsize=(10, 10))\n",
    "\n",
    "plt.setp(fig.ax_heatmap.xaxis.get_majorticklabels(), rotation=90)\n",
    "plt.setp(fig.ax_heatmap.yaxis.get_majorticklabels(), rotation=0)\n",
    "plt.show()"
   ]
  },
  {
   "cell_type": "markdown",
   "metadata": {},
   "source": [
    "## Jobs dataset case study"
   ]
  },
  {
   "cell_type": "code",
   "execution_count": null,
   "metadata": {},
   "outputs": [],
   "source": [
    "# Read in jobs file\n",
    "jobs = pd.read_csv(url_jobs)\n",
    "\n",
    "# Print first five lines of your DataFrame\n",
    "print(jobs.head(5))\n",
    "\n",
    "# Check the type of each column in your DataFrame\n",
    "print(jobs.dtypes)\n",
    "\n",
    "# Convert datestamp column to a datetime object\n",
    "jobs['datestamp'] = pd.to_datetime(jobs['datestamp'])\n",
    "\n",
    "# Set the datestamp columns as the index of your DataFrame\n",
    "jobs = jobs.set_index('datestamp')\n",
    "\n",
    "# Check the number of missing values in each column\n",
    "print(jobs.isnull().sum())\n",
    "\n",
    "# Generate a boxplot\n",
    "jobs.boxplot(fontsize=6, vert=False)\n",
    "plt.show()\n",
    "\n",
    "# Generate numerical summaries\n",
    "print(jobs.describe())"
   ]
  },
  {
   "cell_type": "code",
   "execution_count": null,
   "metadata": {},
   "outputs": [],
   "source": [
    "# A subset of the jobs DataFrame\n",
    "jobs_subset = jobs[['Finance', 'Information', 'Manufacturing', 'Construction']]\n",
    "\n",
    "# Print the first 5 rows of jobs_subset\n",
    "print(jobs_subset.head())\n",
    "\n",
    "# Create a facetted graph with 2 rows and 2 columns\n",
    "ax = jobs_subset.plot(subplots=True,\n",
    "                      layout=(2,2),\n",
    "                      sharex=False,\n",
    "                      sharey=False,\n",
    "                      linewidth=0.7,\n",
    "                      fontsize=3,\n",
    "                      legend=False)\n",
    "\n",
    "plt.show()"
   ]
  },
  {
   "cell_type": "code",
   "execution_count": null,
   "metadata": {},
   "outputs": [],
   "source": [
    "# Plot all time series in the jobs DataFrame\n",
    "ax = jobs.plot(colormap = 'Spectral', fontsize=6, linewidth=0.8)\n",
    "\n",
    "# Set labels and legend\n",
    "ax.set_xlabel('Date', fontsize=10)\n",
    "ax.set_ylabel('Unemployment Rate', fontsize=10)\n",
    "ax.set_title('Unemployment rate of U.S. workers by industry', fontsize=10)\n",
    "ax.legend(loc='center left', bbox_to_anchor=(1.0, 0.5))\n",
    "\n",
    "# Annotate your plots with vertical lines\n",
    "ax.axvline('2001-07-01', color='blue', linestyle='--', linewidth=0.8)\n",
    "ax.axvline('2008-09-01', color='blue', linestyle='--', linewidth=0.8)\n",
    "\n",
    "# Show plot\n",
    "plt.show()"
   ]
  },
  {
   "cell_type": "code",
   "execution_count": null,
   "metadata": {},
   "outputs": [],
   "source": [
    "# Extract the month from the index of jobs\n",
    "index_month = jobs.index.month\n",
    "\n",
    "# Compute the mean unemployment rate for each month\n",
    "jobs_by_month = jobs.groupby(index_month).mean()\n",
    "\n",
    "# Plot the mean unemployment rate for each month\n",
    "ax = jobs_by_month.plot(fontsize=6, linewidth=1)\n",
    "\n",
    "# Set axis labels and legend\n",
    "ax.set_xlabel('Month', fontsize=10)\n",
    "ax.set_ylabel('Mean unemployment rate', fontsize=10)\n",
    "ax.legend(bbox_to_anchor=(0.8, 0.6), fontsize=10)\n",
    "plt.show()"
   ]
  },
  {
   "cell_type": "markdown",
   "metadata": {},
   "source": [
    "### Multiple decomposition"
   ]
  },
  {
   "cell_type": "code",
   "execution_count": null,
   "metadata": {},
   "outputs": [],
   "source": [
    "# Initialize dictionary\n",
    "jobs_decomp = {}\n",
    "\n",
    "# Get the names of each time series in the DataFrame\n",
    "jobs_names = jobs.columns\n",
    "\n",
    "# Run time series decomposition on each time series of the DataFrame\n",
    "for ts in jobs_names:\n",
    "    ts_decomposition = sm.tsa.seasonal_decompose(jobs[ts])\n",
    "    jobs_decomp[ts] = ts_decomposition\n",
    "    \n",
    "# Extract the seasonal values for the decomposition of each time series\n",
    "for ts in jobs_decomp:\n",
    "    jobs_seasonal[ts] = jobs_decomp[ts].seasonal\n",
    "    \n",
    "# Create a DataFrame from the jobs_seasonal dictionary\n",
    "seasonality_df = pd.DataFrame(jobs_seasonal)\n",
    "\n",
    "# Remove the label for the index\n",
    "seasonality_df.index.name = None\n",
    "\n",
    "# Create a faceted plot of the seasonality_df DataFrame\n",
    "seasonality_df.plot(subplots=True,\n",
    "                   layout=(4,4),\n",
    "                   sharey=False,\n",
    "                   fontsize=2,\n",
    "                   linewidth=0.3,\n",
    "                   legend=False)\n",
    "\n",
    "# Show plot\n",
    "plt.show()"
   ]
  },
  {
   "cell_type": "code",
   "execution_count": null,
   "metadata": {},
   "outputs": [],
   "source": [
    "# Get correlation matrix of the seasonality_df DataFrame\n",
    "seasonality_corr = seasonality_df.corr(method = 'spearman')\n",
    "\n",
    "# Customize the clustermap of the seasonality_corr correlation matrix\n",
    "fig = sns.clustermap(seasonality_corr, annot=True, annot_kws={\"size\": 4}, linewidths=.4, figsize=(15, 10))\n",
    "plt.setp(fig.ax_heatmap.yaxis.get_majorticklabels(), rotation=0)\n",
    "plt.setp(fig.ax_heatmap.xaxis.get_majorticklabels(), rotation=90)\n",
    "plt.show()"
   ]
  }
 ],
 "metadata": {
  "kernelspec": {
   "display_name": "Python 3",
   "language": "python",
   "name": "python3"
  },
  "language_info": {
   "codemirror_mode": {
    "name": "ipython",
    "version": 3
   },
   "file_extension": ".py",
   "mimetype": "text/x-python",
   "name": "python",
   "nbconvert_exporter": "python",
   "pygments_lexer": "ipython3",
   "version": "3.8.5"
  },
  "toc": {
   "base_numbering": 1,
   "nav_menu": {},
   "number_sections": true,
   "sideBar": true,
   "skip_h1_title": false,
   "title_cell": "Table of Contents",
   "title_sidebar": "Contents",
   "toc_cell": false,
   "toc_position": {},
   "toc_section_display": true,
   "toc_window_display": false
  }
 },
 "nbformat": 4,
 "nbformat_minor": 4
}
