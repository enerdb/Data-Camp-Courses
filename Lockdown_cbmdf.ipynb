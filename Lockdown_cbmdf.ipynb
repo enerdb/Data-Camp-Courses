{
  "cells": [
    {
      "cell_type": "markdown",
      "metadata": {
        "id": "view-in-github",
        "colab_type": "text"
      },
      "source": [
        "<a href=\"https://colab.research.google.com/github/enerdb/Data-Camp-Courses/blob/main/Lockdown_cbmdf.ipynb\" target=\"_parent\"><img src=\"https://colab.research.google.com/assets/colab-badge.svg\" alt=\"Open In Colab\"/></a>"
      ]
    },
    {
      "cell_type": "markdown",
      "metadata": {
        "id": "-GbBkbVHZAQM"
      },
      "source": [
        "# Análise de variação de ocorrências do CBMDF nos períodos de Lockdown"
      ]
    },
    {
      "cell_type": "markdown",
      "metadata": {
        "id": "BRFk0YBgZJ0q"
      },
      "source": [
        "# Imports and Setup"
      ]
    },
    {
      "cell_type": "code",
      "execution_count": 1,
      "metadata": {
        "id": "gdo7UwU0Y_HI"
      },
      "outputs": [],
      "source": [
        "import numpy as np\n",
        "import pandas as pd\n",
        "import scipy.stats as ss\n",
        "from google.colab import drive\n",
        "\n",
        "import matplotlib.pyplot as plt\n",
        "import seaborn as sns\n",
        "import warnings\n",
        "\n",
        "\n",
        "warnings.filterwarnings('ignore')\n",
        "plt.rcParams['figure.figsize'] = [15, 10]\n"
      ]
    },
    {
      "cell_type": "markdown",
      "metadata": {
        "id": "uZcGmxkuyLKo"
      },
      "source": [
        "# DATA EXTRACTION Functions"
      ]
    },
    {
      "cell_type": "markdown",
      "metadata": {
        "id": "lWrWwM5i8CIY"
      },
      "source": [
        "### Extract Ocorrências"
      ]
    },
    {
      "cell_type": "code",
      "execution_count": 2,
      "metadata": {
        "id": "EYRA_SXWKZT_"
      },
      "outputs": [],
      "source": [
        "def carrega_dados_ocorrencias():\n",
        "    drive.mount('/content/drive')\n",
        "    dados = '/content/drive/MyDrive/Colab Notebooks/lockdown_cbmdf/analise_lockdownxls.xlsx'\n",
        "    return pd.read_excel(dados)"
      ]
    },
    {
      "cell_type": "markdown",
      "metadata": {
        "id": "YN7Mk6298D4A"
      },
      "source": [
        "### Extract Períodos de Lockdown"
      ]
    },
    {
      "cell_type": "code",
      "execution_count": 3,
      "metadata": {
        "id": "hRitxzhQ8AJB"
      },
      "outputs": [],
      "source": [
        "def carrega_dados_lockdown():\n",
        "    lockdown_dict = {\n",
        "          'DSC': 'Lockdown Total-Escolas Publicas-Escolas Particulares-Faculdades-Academias-Shoppings-Bares/Restaurantes-Salão de Beleza-Eventos locais abertos-Eventos locais fechados-Uso de Máscaras-Festas e Carnaval'.split('-'),\n",
        "          'DATA_i': '10/03/2020-10/03/2020-10/03/2020-10/03/2020-10/03/2020-11/03/2020-10/03/2020-10/03/2020-10/03/2020-10/03/2020-10/03/2020-10/03/2020'.split('-'),\n",
        "          'DATA_f': '13/03/2020-21/09/2021-05/03/2021-05/03/2021-05/03/2021-19/03/2021-19/03/2021-19/03/2021-03/03/2022-03/03/2022-10/03/2022-31/07/2022'.split('-')\n",
        "                    }\n",
        "    lockdown_df = pd.DataFrame(data=lockdown_dict)\n",
        "\n",
        "    lockdown_df['DATA_i'] = pd.to_datetime(lockdown_df['DATA_i'], format = '%d/%m/%Y')\n",
        "    lockdown_df['DATA_f'] = pd.to_datetime(lockdown_df['DATA_f'], format = '%d/%m/%Y')\n",
        "    lockdown_df = lockdown_df.set_index('DSC')\n",
        "\n",
        "    return lockdown_df"
      ]
    },
    {
      "cell_type": "markdown",
      "metadata": {
        "id": "PVMll-FFyReR"
      },
      "source": [
        "### Preparation Ocorrências"
      ]
    },
    {
      "cell_type": "code",
      "execution_count": 4,
      "metadata": {
        "id": "aQqEB69fMGaJ"
      },
      "outputs": [],
      "source": [
        "def prepara_ocorrencias(df):\n",
        "\n",
        "    # Campo DATA\n",
        "    df['DATAstr'] = df['ANO'].apply(int).apply(str) + ' ' + df['MES'].apply(int).apply(str)\n",
        "    df['DATA'] = pd.to_datetime(df['DATAstr'], format = \"%Y %m\")\n",
        "    df_clean1 = df.drop(columns = ['ANO', 'MES', 'DATAstr'])\n",
        "\n",
        "    # Nampo NATUREZA\n",
        "    df_clean1['NATUREZA'] = df_clean1['Dsc Grupo Fenix'] + ' - ' + df_clean1['Dsc Sub Grupo Fenix'] + ' - ' + df_clean1['Dsc Natureza Fenix']\n",
        "    df_clean2 = df_clean1.drop(columns = ['Dsc Grupo Fenix', 'Dsc Sub Grupo Fenix', 'Dsc Natureza Fenix'])\n",
        "\n",
        "    # Renomeando\n",
        "    df_clean2.rename(columns = {'DSC CIDADE': 'CIDADE', 'COD TELEATENDIMENTO': 'QTE'}, inplace = True)\n",
        "\n",
        "    return df_clean2\n"
      ]
    },
    {
      "cell_type": "code",
      "execution_count": 5,
      "metadata": {
        "id": "kQOGt14_UGWG"
      },
      "outputs": [],
      "source": [
        "def agrega_ocorrencias_data(df):\n",
        "    return df.groupby('DATA').sum()['QTE']"
      ]
    },
    {
      "cell_type": "markdown",
      "metadata": {
        "id": "rhBAVmIaM_pT"
      },
      "source": [
        "### Top 30 CIDADES e NATUREZAS"
      ]
    },
    {
      "cell_type": "code",
      "execution_count": 6,
      "metadata": {
        "id": "aZuBvRcRvqTy"
      },
      "outputs": [],
      "source": [
        "def gera_lista_top_campo(df, campo, n = 30):\n",
        "    df_por_campo = df.groupby(campo)['QTE'] \\\n",
        "                                    .sum() \\\n",
        "                                    .reset_index(name = 'QTE') \\\n",
        "                                    .sort_values('QTE', ascending = False) \\\n",
        "                                    .head(n)\n",
        "    return list(df_por_campo[campo])\n",
        "              \n",
        "                                    "
      ]
    },
    {
      "cell_type": "markdown",
      "metadata": {
        "id": "2eC8L-vQQCJd"
      },
      "source": [
        "### Definição de períodos de Lockdown"
      ]
    },
    {
      "cell_type": "code",
      "execution_count": 7,
      "metadata": {
        "id": "o_Gz4sTEROEP"
      },
      "outputs": [],
      "source": [
        "def ld_agg():\n",
        "    lockdown_dict = {\n",
        "          'DSC': 'Restrições Severas-Restrições Moderadas'.split('-'),\n",
        "          'DATA_i': '10/03/2020-10/03/2020'.split('-'),\n",
        "          'DATA_f': '01/03/2021-01/03/2022'.split('-')\n",
        "                    }\n",
        "    lockdown_df = pd.DataFrame(data=lockdown_dict)\n",
        "\n",
        "    lockdown_df['DATA_i'] = pd.to_datetime(lockdown_df['DATA_i'], format = '%d/%m/%Y')\n",
        "    lockdown_df['DATA_f'] = pd.to_datetime(lockdown_df['DATA_f'], format = '%d/%m/%Y')\n",
        "    lockdown_df = lockdown_df.set_index('DSC')\n",
        "\n",
        "    return lockdown_df"
      ]
    },
    {
      "cell_type": "markdown",
      "metadata": {
        "id": "_cDwiUSuS9kv"
      },
      "source": [
        "### Filtra dados"
      ]
    },
    {
      "cell_type": "code",
      "execution_count": 8,
      "metadata": {
        "id": "Jyl7IZJiQIb7"
      },
      "outputs": [],
      "source": [
        "def filtra_cidade(df, cidade):\n",
        "    return df[df['CIDADE']==cidade]\n",
        "\n",
        "def filtra_natureza(df, natureza):\n",
        "    return df[df['NATUREZA']==natureza]\n",
        "\n",
        "# Filtra datas por período de lockdown\n",
        "def filtra_periodo(df, lockdown_df, restricao):\n",
        "    datai = lockdown_df.loc[restricao]['DATA_i']\n",
        "    dataf = lockdown_df.loc[restricao]['DATA_f']\n",
        "    c0 = df.index.to_series().between(datai, dataf)\n",
        "    return df[c0]"
      ]
    },
    {
      "cell_type": "markdown",
      "metadata": {
        "id": "H47h0emEUwdB"
      },
      "source": [
        "# Statistical Test Functions"
      ]
    },
    {
      "cell_type": "code",
      "execution_count": 19,
      "metadata": {
        "id": "0jDl6zvIUu2V"
      },
      "outputs": [],
      "source": [
        "def testa_normal(df, nome = 'Esta distribuição', limite_p = 0.05):\n",
        "    mean = df.mean()\n",
        "    std = df.std()\n",
        "\n",
        "    # Gera uma normal para comparação\n",
        "    s = np.random.normal(mean, std, 1000)\n",
        "\n",
        "    # Plota normal e dados coletados\n",
        "    sns.kdeplot(s);\n",
        "    sns.distplot(ocorrencias_por_data, hist=True, kde=True, \n",
        "             color = 'darkblue', \n",
        "             hist_kws={'edgecolor':'black'},\n",
        "             kde_kws={'linewidth': 4});\n",
        "    \n",
        "    plt.savefig('/figs/' + nome + '.png')\n",
        "\n",
        "    # null hypothesis: x comes from a normal distribution\n",
        "    # if p value is small, reject the null hypothesis\n",
        "\n",
        "    k2, p = ss.normaltest(ocorrencias_por_data)\n",
        "    if p<limite_p:\n",
        "        print('Rejeitar hipótese de normalidade para ' + nome)\n",
        "        return False\n",
        "    else:\n",
        "        print('Não Rejeitar hipótese de normalidade para ' + nome)\n",
        "        return True\n"
      ]
    },
    {
      "cell_type": "code",
      "execution_count": 20,
      "metadata": {
        "id": "8oizGbdygSHs"
      },
      "outputs": [],
      "source": [
        "def compara_dist_plot(df1, df2, cidade, restricao, medias_iguais):\n",
        "    fig, ax = plt.subplots()\n",
        "\n",
        "    titulo = 'Distribuição de Ocorrências em ' + cidade\n",
        "    \n",
        "    plt.title(titulo)\n",
        "    sns.distplot(df1, hist=True, kde=True, \n",
        "                color = 'darkblue', \n",
        "                hist_kws={'edgecolor':'black'},\n",
        "                kde_kws={'linewidth': 4}, \n",
        "                label='Sem restrição'\n",
        "                );\n",
        "    sns.distplot(df2, hist=True, kde=True, \n",
        "                color = 'red', \n",
        "                hist_kws={'edgecolor':'black'},\n",
        "                kde_kws={'linewidth': 4},\n",
        "                label = restricao\n",
        "                );\n",
        "\n",
        "    if medias_iguais:\n",
        "        texto = 'Não há diferença estatística significativa entre as médias'\n",
        "    else:\n",
        "        texto = 'Há diferença estatística significativa entre as médias'\n",
        "\n",
        "    \n",
        "\n",
        "    ax.text(0.03*15, 0.08*10, texto,\n",
        "        horizontalalignment='center',\n",
        "        verticalalignment='center',\n",
        "        fontsize=20, color='red',\n",
        "        transform=ax.transAxes)\n",
        "\n",
        "    legend = ax.legend(loc='upper right', shadow=True, fontsize='x-large')\n",
        "\n",
        "    filename = '/figs/' + titulo + '.png'\n",
        "    plt.savefig(filename)"
      ]
    },
    {
      "cell_type": "code",
      "execution_count": 21,
      "metadata": {
        "id": "YhhULwIpgWUr"
      },
      "outputs": [],
      "source": [
        "def compara_dist_test(df1, df2, limite_p, verbose = 0):\n",
        "\n",
        "    mean = df1.mean()\n",
        "    k2, p = ss.ttest_1samp(df2, mean)\n",
        "\n",
        "    if p<limite_p:\n",
        "        if verbose: print('Rejeitar H0 (não alteração na média de ocorrências)')\n",
        "        return False\n",
        "    else:\n",
        "        if verbose: print('Não Rejeitar H0 (não alteração na média de ocorrências)')\n",
        "        return True"
      ]
    },
    {
      "cell_type": "code",
      "execution_count": 22,
      "metadata": {
        "id": "notmHysyhnYx"
      },
      "outputs": [],
      "source": [
        "def compara_dist(df1, df2, limite_p, verbose = 0, cidade = 'DF', restricao = 'Restrição não informada'):\n",
        "    \n",
        "    medias_iguais = compara_dist_test(df1, df2, limite_p, verbose)\n",
        "    compara_dist_plot(df1, df2, cidade, restricao, medias_iguais)\n",
        "    \n",
        "    return medias_iguais"
      ]
    },
    {
      "cell_type": "markdown",
      "metadata": {
        "id": "rt2oTagdy-_2"
      },
      "source": [
        "# Global EDA RUN"
      ]
    },
    {
      "cell_type": "code",
      "source": [
        "ocorrencias_df = carrega_dados_ocorrencias()"
      ],
      "metadata": {
        "colab": {
          "base_uri": "https://localhost:8080/"
        },
        "id": "H4olfmAzL65F",
        "outputId": "3aaa2481-e9eb-4471-e7f3-96cb0104cf8e"
      },
      "execution_count": 23,
      "outputs": [
        {
          "output_type": "stream",
          "name": "stdout",
          "text": [
            "Drive already mounted at /content/drive; to attempt to forcibly remount, call drive.mount(\"/content/drive\", force_remount=True).\n"
          ]
        }
      ]
    },
    {
      "cell_type": "code",
      "source": [],
      "metadata": {
        "id": "CfaUuAz8MRWK"
      },
      "execution_count": null,
      "outputs": []
    },
    {
      "cell_type": "code",
      "execution_count": 24,
      "metadata": {
        "id": "fhFTsnlbTKRc"
      },
      "outputs": [],
      "source": [
        "\n",
        "lockdown_df = carrega_dados_lockdown()\n",
        "ocorrencias_df = prepara_ocorrencias(ocorrencias_df)\n",
        "cidades = gera_lista_top_campo(ocorrencias_df, 'CIDADE')\n",
        "naturezas = gera_lista_top_campo(ocorrencias_df, 'NATUREZA')"
      ]
    },
    {
      "cell_type": "code",
      "execution_count": 25,
      "metadata": {
        "id": "8eulKgwjzFq2"
      },
      "outputs": [],
      "source": [
        "ocorrencias_por_data = agrega_ocorrencias_data(ocorrencias_df)"
      ]
    },
    {
      "cell_type": "markdown",
      "metadata": {
        "id": "UJgUO_MH7I3o"
      },
      "source": [
        "### Testando normalidade dos dados globais de ocorrências"
      ]
    },
    {
      "cell_type": "code",
      "execution_count": 26,
      "metadata": {
        "id": "H0X5jmwPe2rU",
        "colab": {
          "base_uri": "https://localhost:8080/",
          "height": 0
        },
        "outputId": "38fe93e9-11fc-41a0-f00f-09bffff63b85"
      },
      "outputs": [
        {
          "output_type": "error",
          "ename": "FileNotFoundError",
          "evalue": "ignored",
          "traceback": [
            "\u001b[0;31m---------------------------------------------------------------------------\u001b[0m",
            "\u001b[0;31mFileNotFoundError\u001b[0m                         Traceback (most recent call last)",
            "\u001b[0;32m<ipython-input-26-dd3a53e57d83>\u001b[0m in \u001b[0;36m<module>\u001b[0;34m\u001b[0m\n\u001b[0;32m----> 1\u001b[0;31m \u001b[0mtesta_normal\u001b[0m\u001b[0;34m(\u001b[0m\u001b[0mocorrencias_por_data\u001b[0m\u001b[0;34m,\u001b[0m \u001b[0;34m'Ocorrêcias do DF'\u001b[0m\u001b[0;34m,\u001b[0m \u001b[0mlimite_p\u001b[0m \u001b[0;34m=\u001b[0m \u001b[0;36m0.05\u001b[0m\u001b[0;34m)\u001b[0m\u001b[0;34m\u001b[0m\u001b[0;34m\u001b[0m\u001b[0m\n\u001b[0m",
            "\u001b[0;32m<ipython-input-19-e341cacb8d08>\u001b[0m in \u001b[0;36mtesta_normal\u001b[0;34m(df, nome, limite_p)\u001b[0m\n\u001b[1;32m     13\u001b[0m              kde_kws={'linewidth': 4});\n\u001b[1;32m     14\u001b[0m \u001b[0;34m\u001b[0m\u001b[0m\n\u001b[0;32m---> 15\u001b[0;31m     \u001b[0mplt\u001b[0m\u001b[0;34m.\u001b[0m\u001b[0msavefig\u001b[0m\u001b[0;34m(\u001b[0m\u001b[0;34m'/figs/'\u001b[0m \u001b[0;34m+\u001b[0m \u001b[0mnome\u001b[0m \u001b[0;34m+\u001b[0m \u001b[0;34m'.png'\u001b[0m\u001b[0;34m)\u001b[0m\u001b[0;34m\u001b[0m\u001b[0;34m\u001b[0m\u001b[0m\n\u001b[0m\u001b[1;32m     16\u001b[0m \u001b[0;34m\u001b[0m\u001b[0m\n\u001b[1;32m     17\u001b[0m     \u001b[0;31m# null hypothesis: x comes from a normal distribution\u001b[0m\u001b[0;34m\u001b[0m\u001b[0;34m\u001b[0m\u001b[0;34m\u001b[0m\u001b[0m\n",
            "\u001b[0;32m/usr/local/lib/python3.7/dist-packages/matplotlib/pyplot.py\u001b[0m in \u001b[0;36msavefig\u001b[0;34m(*args, **kwargs)\u001b[0m\n\u001b[1;32m    721\u001b[0m \u001b[0;32mdef\u001b[0m \u001b[0msavefig\u001b[0m\u001b[0;34m(\u001b[0m\u001b[0;34m*\u001b[0m\u001b[0margs\u001b[0m\u001b[0;34m,\u001b[0m \u001b[0;34m**\u001b[0m\u001b[0mkwargs\u001b[0m\u001b[0;34m)\u001b[0m\u001b[0;34m:\u001b[0m\u001b[0;34m\u001b[0m\u001b[0;34m\u001b[0m\u001b[0m\n\u001b[1;32m    722\u001b[0m     \u001b[0mfig\u001b[0m \u001b[0;34m=\u001b[0m \u001b[0mgcf\u001b[0m\u001b[0;34m(\u001b[0m\u001b[0;34m)\u001b[0m\u001b[0;34m\u001b[0m\u001b[0;34m\u001b[0m\u001b[0m\n\u001b[0;32m--> 723\u001b[0;31m     \u001b[0mres\u001b[0m \u001b[0;34m=\u001b[0m \u001b[0mfig\u001b[0m\u001b[0;34m.\u001b[0m\u001b[0msavefig\u001b[0m\u001b[0;34m(\u001b[0m\u001b[0;34m*\u001b[0m\u001b[0margs\u001b[0m\u001b[0;34m,\u001b[0m \u001b[0;34m**\u001b[0m\u001b[0mkwargs\u001b[0m\u001b[0;34m)\u001b[0m\u001b[0;34m\u001b[0m\u001b[0;34m\u001b[0m\u001b[0m\n\u001b[0m\u001b[1;32m    724\u001b[0m     \u001b[0mfig\u001b[0m\u001b[0;34m.\u001b[0m\u001b[0mcanvas\u001b[0m\u001b[0;34m.\u001b[0m\u001b[0mdraw_idle\u001b[0m\u001b[0;34m(\u001b[0m\u001b[0;34m)\u001b[0m   \u001b[0;31m# need this if 'transparent=True' to reset colors\u001b[0m\u001b[0;34m\u001b[0m\u001b[0;34m\u001b[0m\u001b[0m\n\u001b[1;32m    725\u001b[0m     \u001b[0;32mreturn\u001b[0m \u001b[0mres\u001b[0m\u001b[0;34m\u001b[0m\u001b[0;34m\u001b[0m\u001b[0m\n",
            "\u001b[0;32m/usr/local/lib/python3.7/dist-packages/matplotlib/figure.py\u001b[0m in \u001b[0;36msavefig\u001b[0;34m(self, fname, transparent, **kwargs)\u001b[0m\n\u001b[1;32m   2201\u001b[0m             \u001b[0mself\u001b[0m\u001b[0;34m.\u001b[0m\u001b[0mpatch\u001b[0m\u001b[0;34m.\u001b[0m\u001b[0mset_visible\u001b[0m\u001b[0;34m(\u001b[0m\u001b[0mframeon\u001b[0m\u001b[0;34m)\u001b[0m\u001b[0;34m\u001b[0m\u001b[0;34m\u001b[0m\u001b[0m\n\u001b[1;32m   2202\u001b[0m \u001b[0;34m\u001b[0m\u001b[0m\n\u001b[0;32m-> 2203\u001b[0;31m         \u001b[0mself\u001b[0m\u001b[0;34m.\u001b[0m\u001b[0mcanvas\u001b[0m\u001b[0;34m.\u001b[0m\u001b[0mprint_figure\u001b[0m\u001b[0;34m(\u001b[0m\u001b[0mfname\u001b[0m\u001b[0;34m,\u001b[0m \u001b[0;34m**\u001b[0m\u001b[0mkwargs\u001b[0m\u001b[0;34m)\u001b[0m\u001b[0;34m\u001b[0m\u001b[0;34m\u001b[0m\u001b[0m\n\u001b[0m\u001b[1;32m   2204\u001b[0m \u001b[0;34m\u001b[0m\u001b[0m\n\u001b[1;32m   2205\u001b[0m         \u001b[0;32mif\u001b[0m \u001b[0mframeon\u001b[0m\u001b[0;34m:\u001b[0m\u001b[0;34m\u001b[0m\u001b[0;34m\u001b[0m\u001b[0m\n",
            "\u001b[0;32m/usr/local/lib/python3.7/dist-packages/matplotlib/backend_bases.py\u001b[0m in \u001b[0;36mprint_figure\u001b[0;34m(self, filename, dpi, facecolor, edgecolor, orientation, format, bbox_inches, **kwargs)\u001b[0m\n\u001b[1;32m   2124\u001b[0m                     \u001b[0morientation\u001b[0m\u001b[0;34m=\u001b[0m\u001b[0morientation\u001b[0m\u001b[0;34m,\u001b[0m\u001b[0;34m\u001b[0m\u001b[0;34m\u001b[0m\u001b[0m\n\u001b[1;32m   2125\u001b[0m                     \u001b[0mbbox_inches_restore\u001b[0m\u001b[0;34m=\u001b[0m\u001b[0m_bbox_inches_restore\u001b[0m\u001b[0;34m,\u001b[0m\u001b[0;34m\u001b[0m\u001b[0;34m\u001b[0m\u001b[0m\n\u001b[0;32m-> 2126\u001b[0;31m                     **kwargs)\n\u001b[0m\u001b[1;32m   2127\u001b[0m             \u001b[0;32mfinally\u001b[0m\u001b[0;34m:\u001b[0m\u001b[0;34m\u001b[0m\u001b[0;34m\u001b[0m\u001b[0m\n\u001b[1;32m   2128\u001b[0m                 \u001b[0;32mif\u001b[0m \u001b[0mbbox_inches\u001b[0m \u001b[0;32mand\u001b[0m \u001b[0mrestore_bbox\u001b[0m\u001b[0;34m:\u001b[0m\u001b[0;34m\u001b[0m\u001b[0;34m\u001b[0m\u001b[0m\n",
            "\u001b[0;32m/usr/local/lib/python3.7/dist-packages/matplotlib/backends/backend_agg.py\u001b[0m in \u001b[0;36mprint_png\u001b[0;34m(self, filename_or_obj, metadata, pil_kwargs, *args, **kwargs)\u001b[0m\n\u001b[1;32m    533\u001b[0m         \u001b[0;32melse\u001b[0m\u001b[0;34m:\u001b[0m\u001b[0;34m\u001b[0m\u001b[0;34m\u001b[0m\u001b[0m\n\u001b[1;32m    534\u001b[0m             \u001b[0mrenderer\u001b[0m \u001b[0;34m=\u001b[0m \u001b[0mself\u001b[0m\u001b[0;34m.\u001b[0m\u001b[0mget_renderer\u001b[0m\u001b[0;34m(\u001b[0m\u001b[0;34m)\u001b[0m\u001b[0;34m\u001b[0m\u001b[0;34m\u001b[0m\u001b[0m\n\u001b[0;32m--> 535\u001b[0;31m             \u001b[0;32mwith\u001b[0m \u001b[0mcbook\u001b[0m\u001b[0;34m.\u001b[0m\u001b[0mopen_file_cm\u001b[0m\u001b[0;34m(\u001b[0m\u001b[0mfilename_or_obj\u001b[0m\u001b[0;34m,\u001b[0m \u001b[0;34m\"wb\"\u001b[0m\u001b[0;34m)\u001b[0m \u001b[0;32mas\u001b[0m \u001b[0mfh\u001b[0m\u001b[0;34m:\u001b[0m\u001b[0;34m\u001b[0m\u001b[0;34m\u001b[0m\u001b[0m\n\u001b[0m\u001b[1;32m    536\u001b[0m                 _png.write_png(renderer._renderer, fh, self.figure.dpi,\n\u001b[1;32m    537\u001b[0m                                metadata={**default_metadata, **metadata})\n",
            "\u001b[0;32m/usr/lib/python3.7/contextlib.py\u001b[0m in \u001b[0;36m__enter__\u001b[0;34m(self)\u001b[0m\n\u001b[1;32m    110\u001b[0m         \u001b[0;32mdel\u001b[0m \u001b[0mself\u001b[0m\u001b[0;34m.\u001b[0m\u001b[0margs\u001b[0m\u001b[0;34m,\u001b[0m \u001b[0mself\u001b[0m\u001b[0;34m.\u001b[0m\u001b[0mkwds\u001b[0m\u001b[0;34m,\u001b[0m \u001b[0mself\u001b[0m\u001b[0;34m.\u001b[0m\u001b[0mfunc\u001b[0m\u001b[0;34m\u001b[0m\u001b[0;34m\u001b[0m\u001b[0m\n\u001b[1;32m    111\u001b[0m         \u001b[0;32mtry\u001b[0m\u001b[0;34m:\u001b[0m\u001b[0;34m\u001b[0m\u001b[0;34m\u001b[0m\u001b[0m\n\u001b[0;32m--> 112\u001b[0;31m             \u001b[0;32mreturn\u001b[0m \u001b[0mnext\u001b[0m\u001b[0;34m(\u001b[0m\u001b[0mself\u001b[0m\u001b[0;34m.\u001b[0m\u001b[0mgen\u001b[0m\u001b[0;34m)\u001b[0m\u001b[0;34m\u001b[0m\u001b[0;34m\u001b[0m\u001b[0m\n\u001b[0m\u001b[1;32m    113\u001b[0m         \u001b[0;32mexcept\u001b[0m \u001b[0mStopIteration\u001b[0m\u001b[0;34m:\u001b[0m\u001b[0;34m\u001b[0m\u001b[0;34m\u001b[0m\u001b[0m\n\u001b[1;32m    114\u001b[0m             \u001b[0;32mraise\u001b[0m \u001b[0mRuntimeError\u001b[0m\u001b[0;34m(\u001b[0m\u001b[0;34m\"generator didn't yield\"\u001b[0m\u001b[0;34m)\u001b[0m \u001b[0;32mfrom\u001b[0m \u001b[0;32mNone\u001b[0m\u001b[0;34m\u001b[0m\u001b[0;34m\u001b[0m\u001b[0m\n",
            "\u001b[0;32m/usr/local/lib/python3.7/dist-packages/matplotlib/cbook/__init__.py\u001b[0m in \u001b[0;36mopen_file_cm\u001b[0;34m(path_or_file, mode, encoding)\u001b[0m\n\u001b[1;32m    416\u001b[0m \u001b[0;32mdef\u001b[0m \u001b[0mopen_file_cm\u001b[0m\u001b[0;34m(\u001b[0m\u001b[0mpath_or_file\u001b[0m\u001b[0;34m,\u001b[0m \u001b[0mmode\u001b[0m\u001b[0;34m=\u001b[0m\u001b[0;34m\"r\"\u001b[0m\u001b[0;34m,\u001b[0m \u001b[0mencoding\u001b[0m\u001b[0;34m=\u001b[0m\u001b[0;32mNone\u001b[0m\u001b[0;34m)\u001b[0m\u001b[0;34m:\u001b[0m\u001b[0;34m\u001b[0m\u001b[0;34m\u001b[0m\u001b[0m\n\u001b[1;32m    417\u001b[0m     \u001b[0;34mr\"\"\"Pass through file objects and context-manage `.PathLike`\\s.\"\"\"\u001b[0m\u001b[0;34m\u001b[0m\u001b[0;34m\u001b[0m\u001b[0m\n\u001b[0;32m--> 418\u001b[0;31m     \u001b[0mfh\u001b[0m\u001b[0;34m,\u001b[0m \u001b[0mopened\u001b[0m \u001b[0;34m=\u001b[0m \u001b[0mto_filehandle\u001b[0m\u001b[0;34m(\u001b[0m\u001b[0mpath_or_file\u001b[0m\u001b[0;34m,\u001b[0m \u001b[0mmode\u001b[0m\u001b[0;34m,\u001b[0m \u001b[0;32mTrue\u001b[0m\u001b[0;34m,\u001b[0m \u001b[0mencoding\u001b[0m\u001b[0;34m)\u001b[0m\u001b[0;34m\u001b[0m\u001b[0;34m\u001b[0m\u001b[0m\n\u001b[0m\u001b[1;32m    419\u001b[0m     \u001b[0;32mif\u001b[0m \u001b[0mopened\u001b[0m\u001b[0;34m:\u001b[0m\u001b[0;34m\u001b[0m\u001b[0;34m\u001b[0m\u001b[0m\n\u001b[1;32m    420\u001b[0m         \u001b[0;32mwith\u001b[0m \u001b[0mfh\u001b[0m\u001b[0;34m:\u001b[0m\u001b[0;34m\u001b[0m\u001b[0;34m\u001b[0m\u001b[0m\n",
            "\u001b[0;32m/usr/local/lib/python3.7/dist-packages/matplotlib/cbook/__init__.py\u001b[0m in \u001b[0;36mto_filehandle\u001b[0;34m(fname, flag, return_opened, encoding)\u001b[0m\n\u001b[1;32m    401\u001b[0m             \u001b[0mfh\u001b[0m \u001b[0;34m=\u001b[0m \u001b[0mbz2\u001b[0m\u001b[0;34m.\u001b[0m\u001b[0mBZ2File\u001b[0m\u001b[0;34m(\u001b[0m\u001b[0mfname\u001b[0m\u001b[0;34m,\u001b[0m \u001b[0mflag\u001b[0m\u001b[0;34m)\u001b[0m\u001b[0;34m\u001b[0m\u001b[0;34m\u001b[0m\u001b[0m\n\u001b[1;32m    402\u001b[0m         \u001b[0;32melse\u001b[0m\u001b[0;34m:\u001b[0m\u001b[0;34m\u001b[0m\u001b[0;34m\u001b[0m\u001b[0m\n\u001b[0;32m--> 403\u001b[0;31m             \u001b[0mfh\u001b[0m \u001b[0;34m=\u001b[0m \u001b[0mopen\u001b[0m\u001b[0;34m(\u001b[0m\u001b[0mfname\u001b[0m\u001b[0;34m,\u001b[0m \u001b[0mflag\u001b[0m\u001b[0;34m,\u001b[0m \u001b[0mencoding\u001b[0m\u001b[0;34m=\u001b[0m\u001b[0mencoding\u001b[0m\u001b[0;34m)\u001b[0m\u001b[0;34m\u001b[0m\u001b[0;34m\u001b[0m\u001b[0m\n\u001b[0m\u001b[1;32m    404\u001b[0m         \u001b[0mopened\u001b[0m \u001b[0;34m=\u001b[0m \u001b[0;32mTrue\u001b[0m\u001b[0;34m\u001b[0m\u001b[0;34m\u001b[0m\u001b[0m\n\u001b[1;32m    405\u001b[0m     \u001b[0;32melif\u001b[0m \u001b[0mhasattr\u001b[0m\u001b[0;34m(\u001b[0m\u001b[0mfname\u001b[0m\u001b[0;34m,\u001b[0m \u001b[0;34m'seek'\u001b[0m\u001b[0;34m)\u001b[0m\u001b[0;34m:\u001b[0m\u001b[0;34m\u001b[0m\u001b[0;34m\u001b[0m\u001b[0m\n",
            "\u001b[0;31mFileNotFoundError\u001b[0m: [Errno 2] No such file or directory: '/figs/Ocorrêcias do DF.png'"
          ]
        }
      ],
      "source": [
        "%%capture testenormal_pic\n",
        "testa_normal(ocorrencias_por_data, 'Ocorrêcias do DF', limite_p = 0.05)"
      ]
    },
    {
      "cell_type": "markdown",
      "metadata": {
        "id": "r3S0cg038pyW"
      },
      "source": [
        "Aqui é observada uma skew positiva característica das funções de contagem que geralmente são poisson e não normais.\n",
        "\n",
        "É possível fazer alguma transformação para melhorar a normalidade, contudo, a função é suficientemente normal conforme os testes."
      ]
    },
    {
      "cell_type": "markdown",
      "metadata": {
        "id": "bewGhWUyAvk3"
      },
      "source": [
        "## Avaliando períodos de Lockdown"
      ]
    },
    {
      "cell_type": "code",
      "execution_count": 27,
      "metadata": {
        "id": "j-3sJoYh9Ina"
      },
      "outputs": [],
      "source": [
        "lockdown_df['DELTA'] = lockdown_df['DATA_f'] - lockdown_df['DATA_i']"
      ]
    },
    {
      "cell_type": "code",
      "execution_count": 28,
      "metadata": {
        "colab": {
          "base_uri": "https://localhost:8080/",
          "height": 457
        },
        "id": "NiKCr6RvBFSj",
        "outputId": "74c0302c-012b-4819-f2cc-bbb8610757c1"
      },
      "outputs": [
        {
          "output_type": "execute_result",
          "data": {
            "text/plain": [
              "                            DATA_i     DATA_f    DELTA\n",
              "DSC                                                   \n",
              "Lockdown Total          2020-03-10 2020-03-13   3 days\n",
              "Escolas Publicas        2020-03-10 2021-09-21 560 days\n",
              "Escolas Particulares    2020-03-10 2021-03-05 360 days\n",
              "Faculdades              2020-03-10 2021-03-05 360 days\n",
              "Academias               2020-03-10 2021-03-05 360 days\n",
              "Shoppings               2020-03-11 2021-03-19 373 days\n",
              "Bares/Restaurantes      2020-03-10 2021-03-19 374 days\n",
              "Salão de Beleza         2020-03-10 2021-03-19 374 days\n",
              "Eventos locais abertos  2020-03-10 2022-03-03 723 days\n",
              "Eventos locais fechados 2020-03-10 2022-03-03 723 days\n",
              "Uso de Máscaras         2020-03-10 2022-03-10 730 days\n",
              "Festas e Carnaval       2020-03-10 2022-07-31 873 days"
            ],
            "text/html": [
              "\n",
              "  <div id=\"df-636ad441-1587-489d-8afa-b36d39d18c9e\">\n",
              "    <div class=\"colab-df-container\">\n",
              "      <div>\n",
              "<style scoped>\n",
              "    .dataframe tbody tr th:only-of-type {\n",
              "        vertical-align: middle;\n",
              "    }\n",
              "\n",
              "    .dataframe tbody tr th {\n",
              "        vertical-align: top;\n",
              "    }\n",
              "\n",
              "    .dataframe thead th {\n",
              "        text-align: right;\n",
              "    }\n",
              "</style>\n",
              "<table border=\"1\" class=\"dataframe\">\n",
              "  <thead>\n",
              "    <tr style=\"text-align: right;\">\n",
              "      <th></th>\n",
              "      <th>DATA_i</th>\n",
              "      <th>DATA_f</th>\n",
              "      <th>DELTA</th>\n",
              "    </tr>\n",
              "    <tr>\n",
              "      <th>DSC</th>\n",
              "      <th></th>\n",
              "      <th></th>\n",
              "      <th></th>\n",
              "    </tr>\n",
              "  </thead>\n",
              "  <tbody>\n",
              "    <tr>\n",
              "      <th>Lockdown Total</th>\n",
              "      <td>2020-03-10</td>\n",
              "      <td>2020-03-13</td>\n",
              "      <td>3 days</td>\n",
              "    </tr>\n",
              "    <tr>\n",
              "      <th>Escolas Publicas</th>\n",
              "      <td>2020-03-10</td>\n",
              "      <td>2021-09-21</td>\n",
              "      <td>560 days</td>\n",
              "    </tr>\n",
              "    <tr>\n",
              "      <th>Escolas Particulares</th>\n",
              "      <td>2020-03-10</td>\n",
              "      <td>2021-03-05</td>\n",
              "      <td>360 days</td>\n",
              "    </tr>\n",
              "    <tr>\n",
              "      <th>Faculdades</th>\n",
              "      <td>2020-03-10</td>\n",
              "      <td>2021-03-05</td>\n",
              "      <td>360 days</td>\n",
              "    </tr>\n",
              "    <tr>\n",
              "      <th>Academias</th>\n",
              "      <td>2020-03-10</td>\n",
              "      <td>2021-03-05</td>\n",
              "      <td>360 days</td>\n",
              "    </tr>\n",
              "    <tr>\n",
              "      <th>Shoppings</th>\n",
              "      <td>2020-03-11</td>\n",
              "      <td>2021-03-19</td>\n",
              "      <td>373 days</td>\n",
              "    </tr>\n",
              "    <tr>\n",
              "      <th>Bares/Restaurantes</th>\n",
              "      <td>2020-03-10</td>\n",
              "      <td>2021-03-19</td>\n",
              "      <td>374 days</td>\n",
              "    </tr>\n",
              "    <tr>\n",
              "      <th>Salão de Beleza</th>\n",
              "      <td>2020-03-10</td>\n",
              "      <td>2021-03-19</td>\n",
              "      <td>374 days</td>\n",
              "    </tr>\n",
              "    <tr>\n",
              "      <th>Eventos locais abertos</th>\n",
              "      <td>2020-03-10</td>\n",
              "      <td>2022-03-03</td>\n",
              "      <td>723 days</td>\n",
              "    </tr>\n",
              "    <tr>\n",
              "      <th>Eventos locais fechados</th>\n",
              "      <td>2020-03-10</td>\n",
              "      <td>2022-03-03</td>\n",
              "      <td>723 days</td>\n",
              "    </tr>\n",
              "    <tr>\n",
              "      <th>Uso de Máscaras</th>\n",
              "      <td>2020-03-10</td>\n",
              "      <td>2022-03-10</td>\n",
              "      <td>730 days</td>\n",
              "    </tr>\n",
              "    <tr>\n",
              "      <th>Festas e Carnaval</th>\n",
              "      <td>2020-03-10</td>\n",
              "      <td>2022-07-31</td>\n",
              "      <td>873 days</td>\n",
              "    </tr>\n",
              "  </tbody>\n",
              "</table>\n",
              "</div>\n",
              "      <button class=\"colab-df-convert\" onclick=\"convertToInteractive('df-636ad441-1587-489d-8afa-b36d39d18c9e')\"\n",
              "              title=\"Convert this dataframe to an interactive table.\"\n",
              "              style=\"display:none;\">\n",
              "        \n",
              "  <svg xmlns=\"http://www.w3.org/2000/svg\" height=\"24px\"viewBox=\"0 0 24 24\"\n",
              "       width=\"24px\">\n",
              "    <path d=\"M0 0h24v24H0V0z\" fill=\"none\"/>\n",
              "    <path d=\"M18.56 5.44l.94 2.06.94-2.06 2.06-.94-2.06-.94-.94-2.06-.94 2.06-2.06.94zm-11 1L8.5 8.5l.94-2.06 2.06-.94-2.06-.94L8.5 2.5l-.94 2.06-2.06.94zm10 10l.94 2.06.94-2.06 2.06-.94-2.06-.94-.94-2.06-.94 2.06-2.06.94z\"/><path d=\"M17.41 7.96l-1.37-1.37c-.4-.4-.92-.59-1.43-.59-.52 0-1.04.2-1.43.59L10.3 9.45l-7.72 7.72c-.78.78-.78 2.05 0 2.83L4 21.41c.39.39.9.59 1.41.59.51 0 1.02-.2 1.41-.59l7.78-7.78 2.81-2.81c.8-.78.8-2.07 0-2.86zM5.41 20L4 18.59l7.72-7.72 1.47 1.35L5.41 20z\"/>\n",
              "  </svg>\n",
              "      </button>\n",
              "      \n",
              "  <style>\n",
              "    .colab-df-container {\n",
              "      display:flex;\n",
              "      flex-wrap:wrap;\n",
              "      gap: 12px;\n",
              "    }\n",
              "\n",
              "    .colab-df-convert {\n",
              "      background-color: #E8F0FE;\n",
              "      border: none;\n",
              "      border-radius: 50%;\n",
              "      cursor: pointer;\n",
              "      display: none;\n",
              "      fill: #1967D2;\n",
              "      height: 32px;\n",
              "      padding: 0 0 0 0;\n",
              "      width: 32px;\n",
              "    }\n",
              "\n",
              "    .colab-df-convert:hover {\n",
              "      background-color: #E2EBFA;\n",
              "      box-shadow: 0px 1px 2px rgba(60, 64, 67, 0.3), 0px 1px 3px 1px rgba(60, 64, 67, 0.15);\n",
              "      fill: #174EA6;\n",
              "    }\n",
              "\n",
              "    [theme=dark] .colab-df-convert {\n",
              "      background-color: #3B4455;\n",
              "      fill: #D2E3FC;\n",
              "    }\n",
              "\n",
              "    [theme=dark] .colab-df-convert:hover {\n",
              "      background-color: #434B5C;\n",
              "      box-shadow: 0px 1px 3px 1px rgba(0, 0, 0, 0.15);\n",
              "      filter: drop-shadow(0px 1px 2px rgba(0, 0, 0, 0.3));\n",
              "      fill: #FFFFFF;\n",
              "    }\n",
              "  </style>\n",
              "\n",
              "      <script>\n",
              "        const buttonEl =\n",
              "          document.querySelector('#df-636ad441-1587-489d-8afa-b36d39d18c9e button.colab-df-convert');\n",
              "        buttonEl.style.display =\n",
              "          google.colab.kernel.accessAllowed ? 'block' : 'none';\n",
              "\n",
              "        async function convertToInteractive(key) {\n",
              "          const element = document.querySelector('#df-636ad441-1587-489d-8afa-b36d39d18c9e');\n",
              "          const dataTable =\n",
              "            await google.colab.kernel.invokeFunction('convertToInteractive',\n",
              "                                                     [key], {});\n",
              "          if (!dataTable) return;\n",
              "\n",
              "          const docLinkHtml = 'Like what you see? Visit the ' +\n",
              "            '<a target=\"_blank\" href=https://colab.research.google.com/notebooks/data_table.ipynb>data table notebook</a>'\n",
              "            + ' to learn more about interactive tables.';\n",
              "          element.innerHTML = '';\n",
              "          dataTable['output_type'] = 'display_data';\n",
              "          await google.colab.output.renderOutput(dataTable, element);\n",
              "          const docLink = document.createElement('div');\n",
              "          docLink.innerHTML = docLinkHtml;\n",
              "          element.appendChild(docLink);\n",
              "        }\n",
              "      </script>\n",
              "    </div>\n",
              "  </div>\n",
              "  "
            ]
          },
          "metadata": {},
          "execution_count": 28
        }
      ],
      "source": [
        "lockdown_df"
      ]
    },
    {
      "cell_type": "code",
      "execution_count": 29,
      "metadata": {
        "colab": {
          "base_uri": "https://localhost:8080/",
          "height": 954
        },
        "id": "JHQ6gc5IA-Hm",
        "outputId": "64aebfc2-7d26-491c-fdb3-187f7cee9d2a"
      },
      "outputs": [
        {
          "output_type": "error",
          "ename": "FileNotFoundError",
          "evalue": "ignored",
          "traceback": [
            "\u001b[0;31m---------------------------------------------------------------------------\u001b[0m",
            "\u001b[0;31mFileNotFoundError\u001b[0m                         Traceback (most recent call last)",
            "\u001b[0;32m<ipython-input-29-045f955cee43>\u001b[0m in \u001b[0;36m<module>\u001b[0;34m\u001b[0m\n\u001b[1;32m      3\u001b[0m     \u001b[0mplt\u001b[0m\u001b[0;34m.\u001b[0m\u001b[0mplot\u001b[0m\u001b[0;34m(\u001b[0m\u001b[0;34m(\u001b[0m\u001b[0mevento\u001b[0m\u001b[0;34m[\u001b[0m\u001b[0;36m1\u001b[0m\u001b[0;34m]\u001b[0m\u001b[0;34m,\u001b[0m \u001b[0mevento\u001b[0m\u001b[0;34m[\u001b[0m\u001b[0;36m2\u001b[0m\u001b[0;34m]\u001b[0m\u001b[0;34m)\u001b[0m\u001b[0;34m,\u001b[0m \u001b[0;34m(\u001b[0m\u001b[0;36m12\u001b[0m\u001b[0;34m-\u001b[0m\u001b[0mi\u001b[0m\u001b[0;34m,\u001b[0m\u001b[0;36m12\u001b[0m\u001b[0;34m-\u001b[0m\u001b[0mi\u001b[0m\u001b[0;34m)\u001b[0m\u001b[0;34m,\u001b[0m \u001b[0mlabel\u001b[0m \u001b[0;34m=\u001b[0m \u001b[0mevento\u001b[0m\u001b[0;34m[\u001b[0m\u001b[0;36m0\u001b[0m\u001b[0;34m]\u001b[0m\u001b[0;34m)\u001b[0m\u001b[0;34m\u001b[0m\u001b[0;34m\u001b[0m\u001b[0m\n\u001b[1;32m      4\u001b[0m     \u001b[0mplt\u001b[0m\u001b[0;34m.\u001b[0m\u001b[0mlegend\u001b[0m\u001b[0;34m(\u001b[0m\u001b[0mloc\u001b[0m\u001b[0;34m=\u001b[0m\u001b[0;34m'upper right'\u001b[0m\u001b[0;34m)\u001b[0m\u001b[0;34m\u001b[0m\u001b[0;34m\u001b[0m\u001b[0m\n\u001b[0;32m----> 5\u001b[0;31m     \u001b[0mplt\u001b[0m\u001b[0;34m.\u001b[0m\u001b[0msavefig\u001b[0m\u001b[0;34m(\u001b[0m\u001b[0;34m'/figs/'\u001b[0m \u001b[0;34m+\u001b[0m \u001b[0;34m'lockdown.png'\u001b[0m\u001b[0;34m)\u001b[0m\u001b[0;34m\u001b[0m\u001b[0;34m\u001b[0m\u001b[0m\n\u001b[0m",
            "\u001b[0;32m/usr/local/lib/python3.7/dist-packages/matplotlib/pyplot.py\u001b[0m in \u001b[0;36msavefig\u001b[0;34m(*args, **kwargs)\u001b[0m\n\u001b[1;32m    721\u001b[0m \u001b[0;32mdef\u001b[0m \u001b[0msavefig\u001b[0m\u001b[0;34m(\u001b[0m\u001b[0;34m*\u001b[0m\u001b[0margs\u001b[0m\u001b[0;34m,\u001b[0m \u001b[0;34m**\u001b[0m\u001b[0mkwargs\u001b[0m\u001b[0;34m)\u001b[0m\u001b[0;34m:\u001b[0m\u001b[0;34m\u001b[0m\u001b[0;34m\u001b[0m\u001b[0m\n\u001b[1;32m    722\u001b[0m     \u001b[0mfig\u001b[0m \u001b[0;34m=\u001b[0m \u001b[0mgcf\u001b[0m\u001b[0;34m(\u001b[0m\u001b[0;34m)\u001b[0m\u001b[0;34m\u001b[0m\u001b[0;34m\u001b[0m\u001b[0m\n\u001b[0;32m--> 723\u001b[0;31m     \u001b[0mres\u001b[0m \u001b[0;34m=\u001b[0m \u001b[0mfig\u001b[0m\u001b[0;34m.\u001b[0m\u001b[0msavefig\u001b[0m\u001b[0;34m(\u001b[0m\u001b[0;34m*\u001b[0m\u001b[0margs\u001b[0m\u001b[0;34m,\u001b[0m \u001b[0;34m**\u001b[0m\u001b[0mkwargs\u001b[0m\u001b[0;34m)\u001b[0m\u001b[0;34m\u001b[0m\u001b[0;34m\u001b[0m\u001b[0m\n\u001b[0m\u001b[1;32m    724\u001b[0m     \u001b[0mfig\u001b[0m\u001b[0;34m.\u001b[0m\u001b[0mcanvas\u001b[0m\u001b[0;34m.\u001b[0m\u001b[0mdraw_idle\u001b[0m\u001b[0;34m(\u001b[0m\u001b[0;34m)\u001b[0m   \u001b[0;31m# need this if 'transparent=True' to reset colors\u001b[0m\u001b[0;34m\u001b[0m\u001b[0;34m\u001b[0m\u001b[0m\n\u001b[1;32m    725\u001b[0m     \u001b[0;32mreturn\u001b[0m \u001b[0mres\u001b[0m\u001b[0;34m\u001b[0m\u001b[0;34m\u001b[0m\u001b[0m\n",
            "\u001b[0;32m/usr/local/lib/python3.7/dist-packages/matplotlib/figure.py\u001b[0m in \u001b[0;36msavefig\u001b[0;34m(self, fname, transparent, **kwargs)\u001b[0m\n\u001b[1;32m   2201\u001b[0m             \u001b[0mself\u001b[0m\u001b[0;34m.\u001b[0m\u001b[0mpatch\u001b[0m\u001b[0;34m.\u001b[0m\u001b[0mset_visible\u001b[0m\u001b[0;34m(\u001b[0m\u001b[0mframeon\u001b[0m\u001b[0;34m)\u001b[0m\u001b[0;34m\u001b[0m\u001b[0;34m\u001b[0m\u001b[0m\n\u001b[1;32m   2202\u001b[0m \u001b[0;34m\u001b[0m\u001b[0m\n\u001b[0;32m-> 2203\u001b[0;31m         \u001b[0mself\u001b[0m\u001b[0;34m.\u001b[0m\u001b[0mcanvas\u001b[0m\u001b[0;34m.\u001b[0m\u001b[0mprint_figure\u001b[0m\u001b[0;34m(\u001b[0m\u001b[0mfname\u001b[0m\u001b[0;34m,\u001b[0m \u001b[0;34m**\u001b[0m\u001b[0mkwargs\u001b[0m\u001b[0;34m)\u001b[0m\u001b[0;34m\u001b[0m\u001b[0;34m\u001b[0m\u001b[0m\n\u001b[0m\u001b[1;32m   2204\u001b[0m \u001b[0;34m\u001b[0m\u001b[0m\n\u001b[1;32m   2205\u001b[0m         \u001b[0;32mif\u001b[0m \u001b[0mframeon\u001b[0m\u001b[0;34m:\u001b[0m\u001b[0;34m\u001b[0m\u001b[0;34m\u001b[0m\u001b[0m\n",
            "\u001b[0;32m/usr/local/lib/python3.7/dist-packages/matplotlib/backend_bases.py\u001b[0m in \u001b[0;36mprint_figure\u001b[0;34m(self, filename, dpi, facecolor, edgecolor, orientation, format, bbox_inches, **kwargs)\u001b[0m\n\u001b[1;32m   2124\u001b[0m                     \u001b[0morientation\u001b[0m\u001b[0;34m=\u001b[0m\u001b[0morientation\u001b[0m\u001b[0;34m,\u001b[0m\u001b[0;34m\u001b[0m\u001b[0;34m\u001b[0m\u001b[0m\n\u001b[1;32m   2125\u001b[0m                     \u001b[0mbbox_inches_restore\u001b[0m\u001b[0;34m=\u001b[0m\u001b[0m_bbox_inches_restore\u001b[0m\u001b[0;34m,\u001b[0m\u001b[0;34m\u001b[0m\u001b[0;34m\u001b[0m\u001b[0m\n\u001b[0;32m-> 2126\u001b[0;31m                     **kwargs)\n\u001b[0m\u001b[1;32m   2127\u001b[0m             \u001b[0;32mfinally\u001b[0m\u001b[0;34m:\u001b[0m\u001b[0;34m\u001b[0m\u001b[0;34m\u001b[0m\u001b[0m\n\u001b[1;32m   2128\u001b[0m                 \u001b[0;32mif\u001b[0m \u001b[0mbbox_inches\u001b[0m \u001b[0;32mand\u001b[0m \u001b[0mrestore_bbox\u001b[0m\u001b[0;34m:\u001b[0m\u001b[0;34m\u001b[0m\u001b[0;34m\u001b[0m\u001b[0m\n",
            "\u001b[0;32m/usr/local/lib/python3.7/dist-packages/matplotlib/backends/backend_agg.py\u001b[0m in \u001b[0;36mprint_png\u001b[0;34m(self, filename_or_obj, metadata, pil_kwargs, *args, **kwargs)\u001b[0m\n\u001b[1;32m    533\u001b[0m         \u001b[0;32melse\u001b[0m\u001b[0;34m:\u001b[0m\u001b[0;34m\u001b[0m\u001b[0;34m\u001b[0m\u001b[0m\n\u001b[1;32m    534\u001b[0m             \u001b[0mrenderer\u001b[0m \u001b[0;34m=\u001b[0m \u001b[0mself\u001b[0m\u001b[0;34m.\u001b[0m\u001b[0mget_renderer\u001b[0m\u001b[0;34m(\u001b[0m\u001b[0;34m)\u001b[0m\u001b[0;34m\u001b[0m\u001b[0;34m\u001b[0m\u001b[0m\n\u001b[0;32m--> 535\u001b[0;31m             \u001b[0;32mwith\u001b[0m \u001b[0mcbook\u001b[0m\u001b[0;34m.\u001b[0m\u001b[0mopen_file_cm\u001b[0m\u001b[0;34m(\u001b[0m\u001b[0mfilename_or_obj\u001b[0m\u001b[0;34m,\u001b[0m \u001b[0;34m\"wb\"\u001b[0m\u001b[0;34m)\u001b[0m \u001b[0;32mas\u001b[0m \u001b[0mfh\u001b[0m\u001b[0;34m:\u001b[0m\u001b[0;34m\u001b[0m\u001b[0;34m\u001b[0m\u001b[0m\n\u001b[0m\u001b[1;32m    536\u001b[0m                 _png.write_png(renderer._renderer, fh, self.figure.dpi,\n\u001b[1;32m    537\u001b[0m                                metadata={**default_metadata, **metadata})\n",
            "\u001b[0;32m/usr/lib/python3.7/contextlib.py\u001b[0m in \u001b[0;36m__enter__\u001b[0;34m(self)\u001b[0m\n\u001b[1;32m    110\u001b[0m         \u001b[0;32mdel\u001b[0m \u001b[0mself\u001b[0m\u001b[0;34m.\u001b[0m\u001b[0margs\u001b[0m\u001b[0;34m,\u001b[0m \u001b[0mself\u001b[0m\u001b[0;34m.\u001b[0m\u001b[0mkwds\u001b[0m\u001b[0;34m,\u001b[0m \u001b[0mself\u001b[0m\u001b[0;34m.\u001b[0m\u001b[0mfunc\u001b[0m\u001b[0;34m\u001b[0m\u001b[0;34m\u001b[0m\u001b[0m\n\u001b[1;32m    111\u001b[0m         \u001b[0;32mtry\u001b[0m\u001b[0;34m:\u001b[0m\u001b[0;34m\u001b[0m\u001b[0;34m\u001b[0m\u001b[0m\n\u001b[0;32m--> 112\u001b[0;31m             \u001b[0;32mreturn\u001b[0m \u001b[0mnext\u001b[0m\u001b[0;34m(\u001b[0m\u001b[0mself\u001b[0m\u001b[0;34m.\u001b[0m\u001b[0mgen\u001b[0m\u001b[0;34m)\u001b[0m\u001b[0;34m\u001b[0m\u001b[0;34m\u001b[0m\u001b[0m\n\u001b[0m\u001b[1;32m    113\u001b[0m         \u001b[0;32mexcept\u001b[0m \u001b[0mStopIteration\u001b[0m\u001b[0;34m:\u001b[0m\u001b[0;34m\u001b[0m\u001b[0;34m\u001b[0m\u001b[0m\n\u001b[1;32m    114\u001b[0m             \u001b[0;32mraise\u001b[0m \u001b[0mRuntimeError\u001b[0m\u001b[0;34m(\u001b[0m\u001b[0;34m\"generator didn't yield\"\u001b[0m\u001b[0;34m)\u001b[0m \u001b[0;32mfrom\u001b[0m \u001b[0;32mNone\u001b[0m\u001b[0;34m\u001b[0m\u001b[0;34m\u001b[0m\u001b[0m\n",
            "\u001b[0;32m/usr/local/lib/python3.7/dist-packages/matplotlib/cbook/__init__.py\u001b[0m in \u001b[0;36mopen_file_cm\u001b[0;34m(path_or_file, mode, encoding)\u001b[0m\n\u001b[1;32m    416\u001b[0m \u001b[0;32mdef\u001b[0m \u001b[0mopen_file_cm\u001b[0m\u001b[0;34m(\u001b[0m\u001b[0mpath_or_file\u001b[0m\u001b[0;34m,\u001b[0m \u001b[0mmode\u001b[0m\u001b[0;34m=\u001b[0m\u001b[0;34m\"r\"\u001b[0m\u001b[0;34m,\u001b[0m \u001b[0mencoding\u001b[0m\u001b[0;34m=\u001b[0m\u001b[0;32mNone\u001b[0m\u001b[0;34m)\u001b[0m\u001b[0;34m:\u001b[0m\u001b[0;34m\u001b[0m\u001b[0;34m\u001b[0m\u001b[0m\n\u001b[1;32m    417\u001b[0m     \u001b[0;34mr\"\"\"Pass through file objects and context-manage `.PathLike`\\s.\"\"\"\u001b[0m\u001b[0;34m\u001b[0m\u001b[0;34m\u001b[0m\u001b[0m\n\u001b[0;32m--> 418\u001b[0;31m     \u001b[0mfh\u001b[0m\u001b[0;34m,\u001b[0m \u001b[0mopened\u001b[0m \u001b[0;34m=\u001b[0m \u001b[0mto_filehandle\u001b[0m\u001b[0;34m(\u001b[0m\u001b[0mpath_or_file\u001b[0m\u001b[0;34m,\u001b[0m \u001b[0mmode\u001b[0m\u001b[0;34m,\u001b[0m \u001b[0;32mTrue\u001b[0m\u001b[0;34m,\u001b[0m \u001b[0mencoding\u001b[0m\u001b[0;34m)\u001b[0m\u001b[0;34m\u001b[0m\u001b[0;34m\u001b[0m\u001b[0m\n\u001b[0m\u001b[1;32m    419\u001b[0m     \u001b[0;32mif\u001b[0m \u001b[0mopened\u001b[0m\u001b[0;34m:\u001b[0m\u001b[0;34m\u001b[0m\u001b[0;34m\u001b[0m\u001b[0m\n\u001b[1;32m    420\u001b[0m         \u001b[0;32mwith\u001b[0m \u001b[0mfh\u001b[0m\u001b[0;34m:\u001b[0m\u001b[0;34m\u001b[0m\u001b[0;34m\u001b[0m\u001b[0m\n",
            "\u001b[0;32m/usr/local/lib/python3.7/dist-packages/matplotlib/cbook/__init__.py\u001b[0m in \u001b[0;36mto_filehandle\u001b[0;34m(fname, flag, return_opened, encoding)\u001b[0m\n\u001b[1;32m    401\u001b[0m             \u001b[0mfh\u001b[0m \u001b[0;34m=\u001b[0m \u001b[0mbz2\u001b[0m\u001b[0;34m.\u001b[0m\u001b[0mBZ2File\u001b[0m\u001b[0;34m(\u001b[0m\u001b[0mfname\u001b[0m\u001b[0;34m,\u001b[0m \u001b[0mflag\u001b[0m\u001b[0;34m)\u001b[0m\u001b[0;34m\u001b[0m\u001b[0;34m\u001b[0m\u001b[0m\n\u001b[1;32m    402\u001b[0m         \u001b[0;32melse\u001b[0m\u001b[0;34m:\u001b[0m\u001b[0;34m\u001b[0m\u001b[0;34m\u001b[0m\u001b[0m\n\u001b[0;32m--> 403\u001b[0;31m             \u001b[0mfh\u001b[0m \u001b[0;34m=\u001b[0m \u001b[0mopen\u001b[0m\u001b[0;34m(\u001b[0m\u001b[0mfname\u001b[0m\u001b[0;34m,\u001b[0m \u001b[0mflag\u001b[0m\u001b[0;34m,\u001b[0m \u001b[0mencoding\u001b[0m\u001b[0;34m=\u001b[0m\u001b[0mencoding\u001b[0m\u001b[0;34m)\u001b[0m\u001b[0;34m\u001b[0m\u001b[0;34m\u001b[0m\u001b[0m\n\u001b[0m\u001b[1;32m    404\u001b[0m         \u001b[0mopened\u001b[0m \u001b[0;34m=\u001b[0m \u001b[0;32mTrue\u001b[0m\u001b[0;34m\u001b[0m\u001b[0;34m\u001b[0m\u001b[0m\n\u001b[1;32m    405\u001b[0m     \u001b[0;32melif\u001b[0m \u001b[0mhasattr\u001b[0m\u001b[0;34m(\u001b[0m\u001b[0mfname\u001b[0m\u001b[0;34m,\u001b[0m \u001b[0;34m'seek'\u001b[0m\u001b[0;34m)\u001b[0m\u001b[0;34m:\u001b[0m\u001b[0;34m\u001b[0m\u001b[0;34m\u001b[0m\u001b[0m\n",
            "\u001b[0;31mFileNotFoundError\u001b[0m: [Errno 2] No such file or directory: '/figs/lockdown.png'"
          ]
        },
        {
          "output_type": "display_data",
          "data": {
            "text/plain": [
              "<Figure size 1080x720 with 1 Axes>"
            ],
            "image/png": "[encoded data removed]"
          },
          "metadata": {
            "needs_background": "light"
          }
        }
      ],
      "source": [
        "for i, evento in enumerate(lockdown_df.itertuples()):\n",
        "    plt.xticks(rotation = 90)\n",
        "    plt.plot((evento[1], evento[2]), (12-i,12-i), label = evento[0])\n",
        "    plt.legend(loc='upper right')\n",
        "    plt.savefig('/figs/' + 'lockdown.png')"
      ]
    },
    {
      "cell_type": "markdown",
      "metadata": {
        "id": "7KFWbfuSFl1h"
      },
      "source": [
        "Faz sentido restringir os períodos a um número menor:\n",
        "* Período de maior restrição até março/2021\n",
        "* Período de menor restrição até março/2022\n",
        "\n",
        "Os demais períodos serão considerados sem restrição\n",
        "\n",
        "As restrições em escolas públicas não serão avaliadas visto que, aparentemente, não são relevantes para a atividade BM.\n",
        "\n",
        "O lockdown total não será avaliado por ter duração muito pequena.\n",
        "\n"
      ]
    },
    {
      "cell_type": "markdown",
      "metadata": {
        "id": "aqBQTDMjBAwI"
      },
      "source": [
        "#### Períodos de Restrição\n",
        "\n",
        "Será usado como referência de maior restrição o lockdown de bares e restaurantes\n",
        "\n",
        "Será usado como referência de menor restrição o lockdown de eventos em local fechado\n",
        "\n"
      ]
    },
    {
      "cell_type": "markdown",
      "metadata": {
        "id": "V7bGf-aUf8_U"
      },
      "source": [
        "# Análise Geral"
      ]
    },
    {
      "cell_type": "code",
      "execution_count": null,
      "metadata": {
        "id": "ihxx6xF0gsNJ"
      },
      "outputs": [],
      "source": [
        "ocorrencias_df = carrega_dados_ocorrencias()\n",
        "lockdown_df = ld_agg()\n",
        "ocorrencias_df = prepara_ocorrencias(ocorrencias_df)\n",
        "\n",
        "cidades = gera_lista_top_campo(ocorrencias_df, 'CIDADE')\n",
        "naturezas = gera_lista_top_campo(ocorrencias_df, 'NATUREZA')\n",
        "restricoes = list(lockdown_df.index)\n",
        "\n"
      ]
    },
    {
      "cell_type": "code",
      "execution_count": null,
      "metadata": {
        "id": "ADVkeXimIlpw"
      },
      "outputs": [],
      "source": [
        "%%capture global_pic\n",
        "\n",
        "df_lim =ocorrencias_df\n",
        "df_lim_agg = df_lim.groupby('DATA').sum()['QTE']\n",
        "\n",
        "for restricao in restricoes:\n",
        "    df_lim_agg_restrito = filtra_periodo(df_lim_agg, lockdown_df, restricao)\n",
        "    compara_dist(df_lim_agg, df_lim_agg_restrito, 0.05, 0, restricao = restricao)"
      ]
    },
    {
      "cell_type": "markdown",
      "metadata": {
        "id": "NcYqjgJTIjAg"
      },
      "source": [
        "# Análise por cidade"
      ]
    },
    {
      "cell_type": "code",
      "execution_count": null,
      "metadata": {
        "id": "Hh-is1CILREj"
      },
      "outputs": [],
      "source": [
        "%%capture cidades_pic\n",
        "for cidade in cidades:\n",
        "    df_lim = filtra_cidade(ocorrencias_df, cidade)\n",
        "    df_lim_agg = df_lim.groupby('DATA').sum()['QTE']\n",
        "\n",
        "    for restricao in restricoes:\n",
        "        df_lim_agg_restrito = filtra_periodo(df_lim_agg, lockdown_df, restricao)\n",
        "        compara_dist(df_lim_agg, df_lim_agg_restrito, 0.05, 0, cidade, restricao)\n",
        "   "
      ]
    },
    {
      "cell_type": "markdown",
      "metadata": {
        "id": "kicR2QENIH0A"
      },
      "source": [
        "# Análise por Natureza"
      ]
    },
    {
      "cell_type": "code",
      "execution_count": 30,
      "metadata": {
        "id": "mQIU_DHwMBaA",
        "colab": {
          "base_uri": "https://localhost:8080/",
          "height": 235
        },
        "outputId": "f7ec23e8-2a1e-4d25-ebcf-8369430d7cfe"
      },
      "outputs": [
        {
          "output_type": "error",
          "ename": "NameError",
          "evalue": "ignored",
          "traceback": [
            "\u001b[0;31m---------------------------------------------------------------------------\u001b[0m",
            "\u001b[0;31mNameError\u001b[0m                                 Traceback (most recent call last)",
            "\u001b[0;32m<ipython-input-30-15ac61488bd3>\u001b[0m in \u001b[0;36m<module>\u001b[0;34m\u001b[0m\n\u001b[1;32m      3\u001b[0m     \u001b[0mdf_lim_agg\u001b[0m \u001b[0;34m=\u001b[0m \u001b[0mdf_lim\u001b[0m\u001b[0;34m.\u001b[0m\u001b[0mgroupby\u001b[0m\u001b[0;34m(\u001b[0m\u001b[0;34m'DATA'\u001b[0m\u001b[0;34m)\u001b[0m\u001b[0;34m.\u001b[0m\u001b[0msum\u001b[0m\u001b[0;34m(\u001b[0m\u001b[0;34m)\u001b[0m\u001b[0;34m[\u001b[0m\u001b[0;34m'QTE'\u001b[0m\u001b[0;34m]\u001b[0m\u001b[0;34m\u001b[0m\u001b[0;34m\u001b[0m\u001b[0m\n\u001b[1;32m      4\u001b[0m \u001b[0;34m\u001b[0m\u001b[0m\n\u001b[0;32m----> 5\u001b[0;31m     \u001b[0;32mfor\u001b[0m \u001b[0mrestricao\u001b[0m \u001b[0;32min\u001b[0m \u001b[0mrestricoes\u001b[0m\u001b[0;34m:\u001b[0m\u001b[0;34m\u001b[0m\u001b[0;34m\u001b[0m\u001b[0m\n\u001b[0m\u001b[1;32m      6\u001b[0m         \u001b[0mdf_lim_agg_restrito\u001b[0m \u001b[0;34m=\u001b[0m \u001b[0mfiltra_periodo\u001b[0m\u001b[0;34m(\u001b[0m\u001b[0mdf_lim_agg\u001b[0m\u001b[0;34m,\u001b[0m \u001b[0mlockdown_df\u001b[0m\u001b[0;34m,\u001b[0m \u001b[0mrestricao\u001b[0m\u001b[0;34m)\u001b[0m\u001b[0;34m\u001b[0m\u001b[0;34m\u001b[0m\u001b[0m\n\u001b[1;32m      7\u001b[0m         \u001b[0mcompara_dist\u001b[0m\u001b[0;34m(\u001b[0m\u001b[0mdf_lim_agg\u001b[0m\u001b[0;34m,\u001b[0m \u001b[0mdf_lim_agg_restrito\u001b[0m\u001b[0;34m,\u001b[0m \u001b[0;36m0.05\u001b[0m\u001b[0;34m,\u001b[0m \u001b[0;36m0\u001b[0m\u001b[0;34m,\u001b[0m \u001b[0mnatureza\u001b[0m\u001b[0;34m,\u001b[0m \u001b[0mrestricao\u001b[0m\u001b[0;34m)\u001b[0m\u001b[0;34m\u001b[0m\u001b[0;34m\u001b[0m\u001b[0m\n",
            "\u001b[0;31mNameError\u001b[0m: name 'restricoes' is not defined"
          ]
        }
      ],
      "source": [
        "%%capture naturezas_pic\n",
        "        \n",
        "for natureza in naturezas:\n",
        "    df_lim = filtra_natureza(ocorrencias_df, natureza)\n",
        "    df_lim_agg = df_lim.groupby('DATA').sum()['QTE']\n",
        "\n",
        "    for restricao in restricoes:\n",
        "        df_lim_agg_restrito = filtra_periodo(df_lim_agg, lockdown_df, restricao)\n",
        "        compara_dist(df_lim_agg, df_lim_agg_restrito, 0.05, 0, natureza, restricao)"
      ]
    },
    {
      "cell_type": "markdown",
      "metadata": {
        "id": "6ffwk1BwTEX5"
      },
      "source": []
    },
    {
      "cell_type": "code",
      "execution_count": 31,
      "metadata": {
        "id": "xnVAbHXk_vGv",
        "colab": {
          "base_uri": "https://localhost:8080/",
          "height": 165
        },
        "outputId": "1a2b8d03-f837-4f93-adbd-cc21a7cf0e0a"
      },
      "outputs": [
        {
          "output_type": "error",
          "ename": "NameError",
          "evalue": "ignored",
          "traceback": [
            "\u001b[0;31m---------------------------------------------------------------------------\u001b[0m",
            "\u001b[0;31mNameError\u001b[0m                                 Traceback (most recent call last)",
            "\u001b[0;32m<ipython-input-31-a94f7ea75cda>\u001b[0m in \u001b[0;36m<module>\u001b[0;34m\u001b[0m\n\u001b[0;32m----> 1\u001b[0;31m \u001b[0mhelp\u001b[0m\u001b[0;34m(\u001b[0m\u001b[0mlockdown_pic\u001b[0m\u001b[0;34m)\u001b[0m\u001b[0;34m\u001b[0m\u001b[0;34m\u001b[0m\u001b[0m\n\u001b[0m",
            "\u001b[0;31mNameError\u001b[0m: name 'lockdown_pic' is not defined"
          ]
        }
      ],
      "source": [
        "help(lockdown_pic)"
      ]
    },
    {
      "cell_type": "code",
      "execution_count": 32,
      "metadata": {
        "id": "0Bl5gRRiXyuc",
        "colab": {
          "base_uri": "https://localhost:8080/",
          "height": 165
        },
        "outputId": "50f00482-35ab-4a20-a68a-244373875d39"
      },
      "outputs": [
        {
          "output_type": "error",
          "ename": "NameError",
          "evalue": "ignored",
          "traceback": [
            "\u001b[0;31m---------------------------------------------------------------------------\u001b[0m",
            "\u001b[0;31mNameError\u001b[0m                                 Traceback (most recent call last)",
            "\u001b[0;32m<ipython-input-32-8d92280ea8d8>\u001b[0m in \u001b[0;36m<module>\u001b[0;34m\u001b[0m\n\u001b[0;32m----> 1\u001b[0;31m \u001b[0mlockdown_pic\u001b[0m\u001b[0;34m(\u001b[0m\u001b[0;34m)\u001b[0m\u001b[0;34m\u001b[0m\u001b[0;34m\u001b[0m\u001b[0m\n\u001b[0m",
            "\u001b[0;31mNameError\u001b[0m: name 'lockdown_pic' is not defined"
          ]
        }
      ],
      "source": [
        "lockdown_pic()"
      ]
    },
    {
      "cell_type": "code",
      "execution_count": null,
      "metadata": {
        "id": "DgspAR-mZExN"
      },
      "outputs": [],
      "source": [
        "testenormal_pic()"
      ]
    },
    {
      "cell_type": "code",
      "execution_count": null,
      "metadata": {
        "id": "v8lVoMh0ZNYt"
      },
      "outputs": [],
      "source": [
        "global_pic()"
      ]
    },
    {
      "cell_type": "code",
      "execution_count": null,
      "metadata": {
        "id": "YDa47OhZZOaG"
      },
      "outputs": [],
      "source": [
        "cidades_pic()"
      ]
    },
    {
      "cell_type": "code",
      "execution_count": 33,
      "metadata": {
        "id": "2HT0TqeyYZb9"
      },
      "outputs": [],
      "source": [
        "naturezas_pic()"
      ]
    },
    {
      "cell_type": "code",
      "execution_count": 34,
      "metadata": {
        "id": "SbuGnkjCZNEN",
        "colab": {
          "base_uri": "https://localhost:8080/"
        },
        "outputId": "7871987f-a7bd-4515-bac6-0bd211b3c49a"
      },
      "outputs": [
        {
          "output_type": "stream",
          "name": "stdout",
          "text": [
            "  adding: content/ (stored 0%)\n",
            "  adding: content/.config/ (stored 0%)\n",
            "  adding: content/.config/gce (stored 0%)\n",
            "  adding: content/.config/.last_survey_prompt.yaml (stored 0%)\n",
            "  adding: content/.config/active_config (stored 0%)\n",
            "  adding: content/.config/logs/ (stored 0%)\n",
            "  adding: content/.config/logs/2022.09.22/ (stored 0%)\n",
            "  adding: content/.config/logs/2022.09.22/13.40.36.582025.log (deflated 92%)\n",
            "  adding: content/.config/logs/2022.09.22/13.41.55.898378.log (deflated 55%)\n",
            "  adding: content/.config/logs/2022.09.22/13.41.33.220849.log (deflated 54%)\n",
            "  adding: content/.config/logs/2022.09.22/13.41.24.425810.log (deflated 86%)\n",
            "  adding: content/.config/logs/2022.09.22/13.41.02.490980.log (deflated 54%)\n",
            "  adding: content/.config/logs/2022.09.22/13.41.56.678942.log (deflated 53%)\n",
            "  adding: content/.config/configurations/ (stored 0%)\n",
            "  adding: content/.config/configurations/config_default (deflated 15%)\n",
            "  adding: content/.config/.last_opt_in_prompt.yaml (stored 0%)\n",
            "  adding: content/.config/.last_update_check.json (deflated 23%)\n",
            "  adding: content/.config/config_sentinel (stored 0%)\n",
            "  adding: content/drive/ (stored 0%)\n",
            "  adding: content/drive/.shortcut-targets-by-id/ (stored 0%)\n",
            "  adding: content/drive/MyDrive/ (stored 0%)\n",
            "  adding: content/drive/MyDrive/00 - Dia/ (stored 0%)\n",
            "  adding: content/drive/MyDrive/00 - Dia/Praticas/ (stored 0%)\n",
            "  adding: content/drive/MyDrive/00 - Dia/Praticas/Gloria in excelsis Deo - Vivaldi.mp3 (deflated 2%)\n",
            "  adding: content/drive/MyDrive/00 - Dia/Praticas/tratak pres.ppsx (deflated 17%)\n",
            "  adding: content/drive/MyDrive/00 - Dia/Praticas/01.- Barroco_lento_Handel-Largo.mp3 (deflated 22%)\n",
            "  adding: content/drive/MyDrive/00 - Dia/Praticas/Bach - Parsifal.mp3 (deflated 1%)\n",
            "  adding: content/drive/MyDrive/00 - Dia/Praticas/05.- TPI - Chopin Nocturno Opus 48 No 1 (Piano Arthur Rubinstein).mp3 (deflated 1%)\n",
            "  adding: content/drive/MyDrive/00 - Dia/Finanças Ener 2019.gsheet\n",
            "zip warning: Operation not supported\n",
            "\tzip warning: could not open for reading: content/drive/MyDrive/00 - Dia/Finanças Ener 2019.gsheet\n",
            "  adding: content/drive/MyDrive/99 - Publica/ (stored 0%)\n",
            "  adding: content/drive/MyDrive/Arquivo/ (stored 0%)\n",
            "  adding: content/drive/MyDrive/Arquivo/11 - CAEO/ (stored 0%)\n",
            "  adding: content/drive/MyDrive/Arquivo/11 - CAEO/Trabalho Cel Bomfim.gslides\n",
            "zip warning: Operation not supported\n",
            "\tzip warning: could not open for reading: content/drive/MyDrive/Arquivo/11 - CAEO/Trabalho Cel Bomfim.gslides\n",
            "  adding: content/drive/MyDrive/Arquivo/11 - CAEO/Trabalho Logística.gdoc\n",
            "zip warning: Operation not supported\n",
            "\tzip warning: could not open for reading: content/drive/MyDrive/Arquivo/11 - CAEO/Trabalho Logística.gdoc\n",
            "  adding: content/drive/MyDrive/Arquivo/11 - CAEO/Apresentação CAEO.pptx (deflated 1%)\n",
            "  adding: content/drive/MyDrive/Arquivo/50 - RPG/ (stored 0%)\n",
            "  adding: content/drive/MyDrive/Arquivo/50 - RPG/Ficha de Personagem 3.1.docx (deflated 20%)\n",
            "  adding: content/drive/MyDrive/Arquivo/50 - RPG/RESUMO DE REGRAS.gdoc\n",
            "zip warning: Operation not supported\n",
            "\tzip warning: could not open for reading: content/drive/MyDrive/Arquivo/50 - RPG/RESUMO DE REGRAS.gdoc\n",
            "  adding: content/drive/MyDrive/Arquivo/80 - Ressarciomento oftalmo/ (stored 0%)\n",
            "  adding: content/drive/MyDrive/Arquivo/80 - Ressarciomento oftalmo/Digitalizado_20180829-1607.pdf (deflated 2%)\n",
            "  adding: content/drive/MyDrive/Arquivo/80 - Ressarciomento oftalmo/Digitalizado_20180829-1608.pdf (deflated 3%)\n",
            "  adding: content/drive/MyDrive/Arquivo/80 - Ressarciomento oftalmo/Digitalizado_20180829-1609.pdf (deflated 4%)\n",
            "  adding: content/drive/MyDrive/Arquivo/Finanças Ener 2018.gsheet\n",
            "zip warning: Operation not supported\n",
            "\tzip warning: could not open for reading: content/drive/MyDrive/Arquivo/Finanças Ener 2018.gsheet\n",
            "  adding: content/drive/MyDrive/Arquivo/Compras/ (stored 0%)\n",
            "  adding: content/drive/MyDrive/Arquivo/Compras/lista paraguai.pdf (deflated 11%)\n",
            "  adding: content/drive/MyDrive/Arquivo/Compras/Lista compras AP QI 31.gsheet\n",
            "zip warning: Operation not supported\n",
            "\tzip warning: could not open for reading: content/drive/MyDrive/Arquivo/Compras/Lista compras AP QI 31.gsheet\n",
            "  adding: content/drive/MyDrive/Arquivo/Compras/Remédios Enilce.gsheet\n",
            "zip warning: Operation not supported\n",
            "\tzip warning: could not open for reading: content/drive/MyDrive/Arquivo/Compras/Remédios Enilce.gsheet\n",
            "  adding: content/drive/MyDrive/Arquivo/Roteiro festa de Natal .gdoc\n",
            "zip warning: Operation not supported\n",
            "\tzip warning: could not open for reading: content/drive/MyDrive/Arquivo/Roteiro festa de Natal .gdoc\n",
            "  adding: content/drive/MyDrive/Arquivo/Visão Geral Despesas Lívia.gsheet\n",
            "zip warning: Operation not supported\n",
            "\tzip warning: could not open for reading: content/drive/MyDrive/Arquivo/Visão Geral Despesas Lívia.gsheet\n",
            "  adding: content/drive/MyDrive/Arquivo/Casamento/ (stored 0%)\n",
            "  adding: content/drive/MyDrive/Arquivo/Casamento/CONTRATO COM CERIMÔNIA.doc (deflated 61%)\n",
            "  adding: content/drive/MyDrive/Arquivo/Casamento/INFORMAÇÕES SOBRE O CASAMENTO_LÍVIA E ENER.xls (deflated 40%)\n",
            "  adding: content/drive/MyDrive/Arquivo/Casamento/Tentativa logo coração.gslides\n",
            "zip warning: Operation not supported\n",
            "\tzip warning: could not open for reading: content/drive/MyDrive/Arquivo/Casamento/Tentativa logo coração.gslides\n",
            "  adding: content/drive/MyDrive/Arquivo/Comparativo de cursos Machine Learning.gsheet\n",
            "zip warning: Operation not supported\n",
            "\tzip warning: could not open for reading: content/drive/MyDrive/Arquivo/Comparativo de cursos Machine Learning.gsheet\n",
            "  adding: content/drive/MyDrive/Arquivo/Cálculos Financeiros/ (stored 0%)\n",
            "  adding: content/drive/MyDrive/Arquivo/Cálculos Financeiros/Previdência GDF.gsheet\n",
            "zip warning: Operation not supported\n",
            "\tzip warning: could not open for reading: content/drive/MyDrive/Arquivo/Cálculos Financeiros/Previdência GDF.gsheet\n",
            "  adding: content/drive/MyDrive/Arquivo/Cálculos Financeiros/Previdência GDF com tributação e previdência privada.gsheet\n",
            "zip warning: Operation not supported\n",
            "\tzip warning: could not open for reading: content/drive/MyDrive/Arquivo/Cálculos Financeiros/Previdência GDF com tributação e previdência privada.gsheet\n",
            "  adding: content/drive/MyDrive/Arquivo/E-book_1_Homeschooling.pdf (deflated 10%)\n",
            "  adding: content/drive/MyDrive/Arquivo/Despesas reforma sala 2021 2022.gsheet\n",
            "zip warning: Operation not supported\n",
            "\tzip warning: could not open for reading: content/drive/MyDrive/Arquivo/Despesas reforma sala 2021 2022.gsheet\n",
            "  adding: content/drive/MyDrive/NA/ (stored 0%)\n",
            "  adding: content/drive/MyDrive/NA/índice FA (deflated 69%)\n",
            "  adding: content/drive/MyDrive/NA/Esquete Aniversário da Asa Sul.gdoc\n",
            "zip warning: Operation not supported\n",
            "\tzip warning: could not open for reading: content/drive/MyDrive/NA/Esquete Aniversário da Asa Sul.gdoc\n",
            "  adding: content/drive/MyDrive/NA/Diário de Classe - Asa Sul.gsheet\n",
            "zip warning: Operation not supported\n",
            "\tzip warning: could not open for reading: content/drive/MyDrive/NA/Diário de Classe - Asa Sul.gsheet\n",
            "  adding: content/drive/MyDrive/NA/Trabalho simbologia animais.gdoc\n",
            "zip warning: Operation not supported\n",
            "\tzip warning: could not open for reading: content/drive/MyDrive/NA/Trabalho simbologia animais.gdoc\n",
            "  adding: content/drive/MyDrive/NA/Peça Blavatsky/ (stored 0%)\n",
            "  adding: content/drive/MyDrive/NA/Peça Blavatsky/Blavatsky vista lateral v1.pdf (deflated 9%)\n",
            "  adding: content/drive/MyDrive/NA/Peça Blavatsky/Blavatsky planta baixa v1.pdf (deflated 19%)\n",
            "  adding: content/drive/MyDrive/NA/Peça Blavatsky/RIDER TÉCNICO AUDITÓRIO POUPEX ATUALIZADO EM 16_04_2015.pdf (deflated 10%)\n",
            "  adding: content/drive/MyDrive/NA/Documentos/ (stored 0%)\n",
            "  adding: content/drive/MyDrive/NA/Documentos/Ener_SOLIC Tocha Cobre2018 rev2.docx (deflated 0%)\n",
            "  adding: content/drive/MyDrive/NA/Documentos/Curriculo Pedagogo.docx (deflated 10%)\n",
            "  adding: content/drive/MyDrive/NA/Documentos/Curriculo Pedagogo.gdoc\n",
            "zip warning: Operation not supported\n",
            "\tzip warning: could not open for reading: content/drive/MyDrive/NA/Documentos/Curriculo Pedagogo.gdoc\n",
            "  adding: content/drive/MyDrive/NA/Zoom/ (stored 0%)\n",
            "  adding: content/drive/MyDrive/NA/Zoom/Salas Zoon Asa Sul (1).xlsx (deflated 17%)\n",
            "  adding: content/drive/MyDrive/NA/Zoom/SALA DE AULA ON line Asa Sul 3.docx (deflated 14%)\n",
            "  adding: content/drive/MyDrive/NA/Zoom/Salas Zoon Asa Sul.xlsx (deflated 17%)\n",
            "  adding: content/drive/MyDrive/NA/Zoom/Salas Zoon Asa Sul (1).gsheet\n",
            "zip warning: Operation not supported\n",
            "\tzip warning: could not open for reading: content/drive/MyDrive/NA/Zoom/Salas Zoon Asa Sul (1).gsheet\n",
            "  adding: content/drive/MyDrive/NA/Zoom/SALA DE AULA ON line Asa Sul 3.gdoc\n",
            "zip warning: Operation not supported\n",
            "\tzip warning: could not open for reading: content/drive/MyDrive/NA/Zoom/SALA DE AULA ON line Asa Sul 3.gdoc\n",
            "  adding: content/drive/MyDrive/NA/Zoom/Salas Zoon Asa Sul.gsheet\n",
            "zip warning: Operation not supported\n",
            "\tzip warning: could not open for reading: content/drive/MyDrive/NA/Zoom/Salas Zoon Asa Sul.gsheet\n",
            "  adding: content/drive/MyDrive/NA/Zoom/NOVO SALA DE AULA ON line Asa Sul .docx (deflated 12%)\n",
            "  adding: content/drive/MyDrive/NA/Provas/ (stored 0%)\n",
            "  adding: content/drive/MyDrive/NA/Provas/FILOSOFIA da história..gdoc\n",
            "zip warning: Operation not supported\n",
            "\tzip warning: could not open for reading: content/drive/MyDrive/NA/Provas/FILOSOFIA da história..gdoc\n",
            "  adding: content/drive/MyDrive/NA/Provas/Prova SP.docx (deflated 21%)\n",
            "  adding: content/drive/MyDrive/NA/Provas/Estudo de Filosofia da Historia.docx (deflated 4%)\n",
            "  adding: content/drive/MyDrive/NA/Palestras/ (stored 0%)\n",
            "  adding: content/drive/MyDrive/NA/Palestras/Palestra - Sair da caverna.gslides\n",
            "zip warning: Operation not supported\n",
            "\tzip warning: could not open for reading: content/drive/MyDrive/NA/Palestras/Palestra - Sair da caverna.gslides\n",
            "  adding: content/drive/MyDrive/NA/MATRIZ DE SINCRONIZAÇÃO ENER.docx (deflated 16%)\n",
            "  adding: content/drive/MyDrive/CBMDF/ (stored 0%)\n",
            "  adding: content/drive/MyDrive/CBMDF/Material ase 113.pdf (deflated 0%)\n",
            "  adding: content/drive/MyDrive/CBMDF/Material ase 113.gdoc\n",
            "zip warning: Operation not supported\n",
            "\tzip warning: could not open for reading: content/drive/MyDrive/CBMDF/Material ase 113.gdoc\n",
            "  adding: content/drive/MyDrive/CBMDF/CEMEV Apresentação FINAL - Corrigida.pptx (deflated 0%)\n",
            "  adding: content/drive/MyDrive/CBMDF/Relatório Fotográfico.gdoc\n",
            "zip warning: Operation not supported\n",
            "\tzip warning: could not open for reading: content/drive/MyDrive/CBMDF/Relatório Fotográfico.gdoc\n",
            "  adding: content/drive/MyDrive/CBMDF/parf 21.gsheet\n",
            "zip warning: Operation not supported\n",
            "\tzip warning: could not open for reading: content/drive/MyDrive/CBMDF/parf 21.gsheet\n",
            "  adding: content/drive/MyDrive/CBMDF/PARF 2021 - CEMEV.gsheet\n",
            "zip warning: Operation not supported\n",
            "\tzip warning: could not open for reading: content/drive/MyDrive/CBMDF/PARF 2021 - CEMEV.gsheet\n",
            "  adding: content/drive/MyDrive/CBMDF/Pesquisa opinião (respostas).gsheet\n",
            "zip warning: Operation not supported\n",
            "\tzip warning: could not open for reading: content/drive/MyDrive/CBMDF/Pesquisa opinião (respostas).gsheet\n",
            "  adding: content/drive/MyDrive/CBMDF/PARF CEMEV 2021.gsheet\n",
            "zip warning: Operation not supported\n",
            "\tzip warning: could not open for reading: content/drive/MyDrive/CBMDF/PARF CEMEV 2021.gsheet\n",
            "  adding: content/drive/MyDrive/CBMDF/PESQUISA AUDATEX - atualizado.gsheet\n",
            "zip warning: Operation not supported\n",
            "\tzip warning: could not open for reading: content/drive/MyDrive/CBMDF/PESQUISA AUDATEX - atualizado.gsheet\n",
            "  adding: content/drive/MyDrive/CBMDF/Militares CEMEV.gsheet\n",
            "zip warning: Operation not supported\n",
            "\tzip warning: could not open for reading: content/drive/MyDrive/CBMDF/Militares CEMEV.gsheet\n",
            "  adding: content/drive/MyDrive/CBMDF/Missões CBMDF.gsheet\n",
            "zip warning: Operation not supported\n",
            "\tzip warning: could not open for reading: content/drive/MyDrive/CBMDF/Missões CBMDF.gsheet\n",
            "  adding: content/drive/MyDrive/CBMDF/NGA CEMEV.gdoc\n",
            "zip warning: Operation not supported\n",
            "\tzip warning: could not open for reading: content/drive/MyDrive/CBMDF/NGA CEMEV.gdoc\n",
            "  adding: content/drive/MyDrive/CBMDF/MAPA DA FORÇA (1).gsheet\n",
            "zip warning: Operation not supported\n",
            "\tzip warning: could not open for reading: content/drive/MyDrive/CBMDF/MAPA DA FORÇA (1).gsheet\n",
            "  adding: content/drive/MyDrive/CBMDF/DIST CEMEV.gdoc\n",
            "zip warning: Operation not supported\n",
            "\tzip warning: could not open for reading: content/drive/MyDrive/CBMDF/DIST CEMEV.gdoc\n",
            "  adding: content/drive/MyDrive/CBMDF/MAPA DA FORÇA.gsheet\n",
            "zip warning: Operation not supported\n",
            "\tzip warning: could not open for reading: content/drive/MyDrive/CBMDF/MAPA DA FORÇA.gsheet\n",
            "  adding: content/drive/MyDrive/CBMDF/Lista de processos bloco interno ASTEC.gdoc\n",
            "zip warning: Operation not supported\n",
            "\tzip warning: could not open for reading: content/drive/MyDrive/CBMDF/Lista de processos bloco interno ASTEC.gdoc\n",
            "  adding: content/drive/MyDrive/CBMDF/relatório CEMEV abril2021.pdf (deflated 5%)\n",
            "  adding: content/drive/MyDrive/CBMDF/Pool de viaturas.gdoc\n",
            "zip warning: Operation not supported\n",
            "\tzip warning: could not open for reading: content/drive/MyDrive/CBMDF/Pool de viaturas.gdoc\n",
            "  adding: content/drive/MyDrive/CBMDF/Processos migrados para SELOG 2021-09.gsheet\n",
            "zip warning: Operation not supported\n",
            "\tzip warning: could not open for reading: content/drive/MyDrive/CBMDF/Processos migrados para SELOG 2021-09.gsheet\n",
            "  adding: content/drive/MyDrive/CBMDF/Processos ASTEC.gsheet\n",
            "zip warning: Operation not supported\n",
            "\tzip warning: could not open for reading: content/drive/MyDrive/CBMDF/Processos ASTEC.gsheet\n",
            "  adding: content/drive/MyDrive/CBMDF/Voluntários para a DITIC - rádios.gdoc\n",
            "zip warning: Operation not supported\n",
            "\tzip warning: could not open for reading: content/drive/MyDrive/CBMDF/Voluntários para a DITIC - rádios.gdoc\n",
            "  adding: content/drive/MyDrive/CBMDF/Acompanhamento de processos e ordens.gsheet\n",
            "zip warning: Operation not supported\n",
            "\tzip warning: could not open for reading: content/drive/MyDrive/CBMDF/Acompanhamento de processos e ordens.gsheet\n",
            "  adding: content/drive/MyDrive/CBMDF/Fluxo novo CEMEV.gslides\n",
            "zip warning: Operation not supported\n",
            "\tzip warning: could not open for reading: content/drive/MyDrive/CBMDF/Fluxo novo CEMEV.gslides\n",
            "  adding: content/drive/MyDrive/CBMDF/Fotos_SGO/ (stored 0%)\n",
            "  adding: content/drive/MyDrive/CBMDF/Fotos_SGO/20220526_144621.jpg (deflated 0%)\n",
            "  adding: content/drive/MyDrive/CBMDF/Fotos_SGO/20220526_144613.jpg (deflated 0%)\n",
            "  adding: content/drive/MyDrive/CBMDF/Fotos_SGO/20220526_144608.jpg (deflated 0%)\n",
            "  adding: content/drive/MyDrive/CBMDF/Fotos_SGO/20220526_144602.jpg (deflated 0%)\n",
            "  adding: content/drive/MyDrive/CBMDF/Fotos_SGO/20220526_144556.jpg (deflated 0%)\n",
            "  adding: content/drive/MyDrive/CBMDF/Fotos_SGO/20220526_144547.jpg (deflated 0%)\n",
            "  adding: content/drive/MyDrive/CBMDF/Fotos_SGO/20220526_144541.jpg (deflated 0%)\n",
            "  adding: content/drive/MyDrive/CBMDF/Fotos_SGO/20220526_144530.jpg (deflated 0%)\n",
            "  adding: content/drive/MyDrive/CBMDF/Fotos_SGO/20220526_144518.jpg (deflated 0%)\n",
            "  adding: content/drive/MyDrive/CBMDF/Fotos_SGO/20220526_144339.jpg (deflated 0%)\n",
            "  adding: content/drive/MyDrive/Imprimir/ (stored 0%)\n",
            "  adding: content/drive/MyDrive/Pessoal/ (stored 0%)\n",
            "  adding: content/drive/MyDrive/Pessoal/Documentos/ (stored 0%)\n",
            "  adding: content/drive/MyDrive/Pessoal/Documentos/1667061 tc.jpg (deflated 31%)\n",
            "  adding: content/drive/MyDrive/Pessoal/Documentos/1667061 300x400.jpg (deflated 31%)\n",
            "  adding: content/drive/MyDrive/Pessoal/Documentos/Residencia.pdf (deflated 5%)\n",
            "  adding: content/drive/MyDrive/Pessoal/Documentos/passaporte (1).pdf (deflated 0%)\n",
            "  adding: content/drive/MyDrive/Pessoal/Documentos/Sigepe mobile - Contracheque DEZ | 2018 - Matrícula 1667061.pdf (deflated 7%)\n",
            "  adding: content/drive/MyDrive/Pessoal/Documentos/Cartão inter.pdf (deflated 2%)\n",
            "  adding: content/drive/MyDrive/Pessoal/Documentos/ID - Motorista - Ener.pdf (deflated 2%)\n",
            "  adding: content/drive/MyDrive/Pessoal/Documentos/Residencia 1902.pdf (deflated 9%)\n",
            "  adding: content/drive/MyDrive/Pessoal/Documentos/Documento de Ener (1) (deflated 35%)\n",
            "  adding: content/drive/MyDrive/Pessoal/Documentos/Documento de Ener (deflated 63%)\n",
            "  adding: content/drive/MyDrive/Pessoal/Documentos/passaporte.pdf (deflated 0%)\n",
            "  adding: content/drive/MyDrive/Pessoal/Documentos/Certidão de casamento_210515_150250 (1).pdf (deflated 0%)\n",
            "  adding: content/drive/MyDrive/Pessoal/Documentos/Identidade CBMDF.pdf (deflated 0%)\n",
            "  adding: content/drive/MyDrive/Pessoal/Documentos/Diplomas/ (stored 0%)\n",
            "  adding: content/drive/MyDrive/Pessoal/Documentos/Diplomas/diploma pós CAEO.pdf (deflated 1%)\n",
            "  adding: content/drive/MyDrive/Pessoal/Documentos/Diplomas/diploma mestrado.pdf (deflated 1%)\n",
            "  adding: content/drive/MyDrive/Pessoal/Documentos/Diplomas/diploma graduação.pdf (deflated 1%)\n",
            "  adding: content/drive/MyDrive/Pessoal/Documentos/Certidão nascimento Thomás.pdf (deflated 4%)\n",
            "  adding: content/drive/MyDrive/Pessoal/Documentos/foto3x4.jpeg (deflated 6%)\n",
            "  adding: content/drive/MyDrive/Pessoal/Orcamento pessoal.xlsx (deflated 35%)\n",
            "  adding: content/drive/MyDrive/Pessoal/Suplementos.gsheet\n",
            "zip warning: Operation not supported\n",
            "\tzip warning: could not open for reading: content/drive/MyDrive/Pessoal/Suplementos.gsheet\n",
            "  adding: content/drive/MyDrive/Pessoal/Orçamentos para casamento.gsheet\n",
            "zip warning: Operation not supported\n",
            "\tzip warning: could not open for reading: content/drive/MyDrive/Pessoal/Orçamentos para casamento.gsheet\n",
            "  adding: content/drive/MyDrive/Pessoal/sabin aut 8.pdf (deflated 8%)\n",
            "  adding: content/drive/MyDrive/Scan/ (stored 0%)\n",
            "  adding: content/drive/MyDrive/Scan/Novo Documento 2019-03-08 11.28.47.pdf (deflated 11%)\n",
            "  adding: content/drive/MyDrive/Scan/Digitalizado_20190924-1527.pdf (deflated 5%)\n",
            "  adding: content/drive/MyDrive/Scan/Digitalizado_20190924-1528.pdf (deflated 4%)\n",
            "  adding: content/drive/MyDrive/Scan/Digitalizado_20190924-1530.pdf (deflated 6%)\n",
            "  adding: content/drive/MyDrive/Scan/Digitalizado_20190924-1531.pdf (deflated 5%)\n",
            "  adding: content/drive/MyDrive/Scan/Digitalizado_20190924-1533.pdf (deflated 4%)\n",
            "  adding: content/drive/MyDrive/Scan/cartão vacina .pdf (deflated 4%)\n",
            "  adding: content/drive/MyDrive/Scan/nota carimbada .pdf (deflated 7%)\n",
            "  adding: content/drive/MyDrive/Scan/20191031_102008.jpg (deflated 0%)\n",
            "  adding: content/drive/MyDrive/Scan/assinatura .jpg (deflated 1%)\n",
            "  adding: content/drive/MyDrive/Scan/Novo Documento 2019-10-31 10.51.19_1.jpg (deflated 1%)\n",
            "  adding: content/drive/MyDrive/Scan/Novo Documento 2019-10-31 10.51.19_2.jpg (deflated 2%)\n",
            "  adding: content/drive/MyDrive/Scan/cronograma 40.pdf (deflated 19%)\n",
            "  adding: content/drive/MyDrive/Scan/cronograma 42.pdf (deflated 16%)\n",
            "  adding: content/drive/MyDrive/Scan/autorização.pdf (deflated 7%)\n",
            "  adding: content/drive/MyDrive/Scan/nf.pdf (deflated 7%)\n",
            "  adding: content/drive/MyDrive/Scan/pedido.pdf (deflated 20%)\n",
            "  adding: content/drive/MyDrive/Investimentos/ (stored 0%)\n",
            "  adding: content/drive/MyDrive/Investimentos/Cópia de Planejamento PGBL.gsheet\n",
            "zip warning: Operation not supported\n",
            "\tzip warning: could not open for reading: content/drive/MyDrive/Investimentos/Cópia de Planejamento PGBL.gsheet\n",
            "  adding: content/drive/MyDrive/Investimentos/B.gsheet\n",
            "zip warning: Operation not supported\n",
            "\tzip warning: could not open for reading: content/drive/MyDrive/Investimentos/B.gsheet\n",
            "  adding: content/drive/MyDrive/Investimentos/Certificado_PGBL.PDF (deflated 49%)\n",
            "  adding: content/drive/MyDrive/Investimentos/HOLD 100.gsheet\n",
            "zip warning: Operation not supported\n",
            "\tzip warning: could not open for reading: content/drive/MyDrive/Investimentos/HOLD 100.gsheet\n",
            "  adding: content/drive/MyDrive/Investimentos/Carteira e radar de FIIs.gsheet\n",
            "zip warning: Operation not supported\n",
            "\tzip warning: could not open for reading: content/drive/MyDrive/Investimentos/Carteira e radar de FIIs.gsheet\n",
            "  adding: content/drive/MyDrive/Viagens/ (stored 0%)\n",
            "  adding: content/drive/MyDrive/Viagens/Despesas Viagem Balneário Camburiú_Beto Carrero 2020.xlsx (deflated 41%)\n",
            "  adding: content/drive/MyDrive/Viagens/Despesas Casamento.xlsx (deflated 42%)\n",
            "  adding: content/drive/MyDrive/Lazer/ (stored 0%)\n",
            "  adding: content/drive/MyDrive/Lazer/Fazenda tower defense simulator.gsheet\n",
            "zip warning: Operation not supported\n",
            "\tzip warning: could not open for reading: content/drive/MyDrive/Lazer/Fazenda tower defense simulator.gsheet\n",
            "  adding: content/drive/MyDrive/Lazer/Eggy Frost Invasion Strategy .gdoc\n",
            "zip warning: Operation not supported\n",
            "\tzip warning: could not open for reading: content/drive/MyDrive/Lazer/Eggy Frost Invasion Strategy .gdoc\n",
            "  adding: content/drive/MyDrive/Lazer/Tower defense .gsheet\n",
            "zip warning: Operation not supported\n",
            "\tzip warning: could not open for reading: content/drive/MyDrive/Lazer/Tower defense .gsheet\n",
            "  adding: content/drive/MyDrive/Lazer/Clash Royale Upgrade Cost.gsheet\n",
            "zip warning: Operation not supported\n",
            "\tzip warning: could not open for reading: content/drive/MyDrive/Lazer/Clash Royale Upgrade Cost.gsheet\n",
            "  adding: content/drive/MyDrive/Lazer/CR_api/ (stored 0%)\n",
            "  adding: content/drive/MyDrive/Lazer/CR_api/creds.json (deflated 30%)\n",
            "  adding: content/drive/MyDrive/Lazer/CR_api/CR_acount.gsheet\n",
            "zip warning: Operation not supported\n",
            "\tzip warning: could not open for reading: content/drive/MyDrive/Lazer/CR_api/CR_acount.gsheet\n",
            "  adding: content/drive/MyDrive/Lazer/CR_api/teste.gsheet\n",
            "zip warning: Operation not supported\n",
            "\tzip warning: could not open for reading: content/drive/MyDrive/Lazer/CR_api/teste.gsheet\n",
            "  adding: content/drive/MyDrive/Lazer/CR_api/CRscraper.ipynb (deflated 71%)\n",
            "  adding: content/drive/MyDrive/Lazer/BSS.gsheet\n",
            "zip warning: Operation not supported\n",
            "\tzip warning: could not open for reading: content/drive/MyDrive/Lazer/BSS.gsheet\n",
            "  adding: content/drive/MyDrive/Lazer/Upgrade Card CR.gsheet\n",
            "zip warning: Operation not supported\n",
            "\tzip warning: could not open for reading: content/drive/MyDrive/Lazer/Upgrade Card CR.gsheet\n",
            "  adding: content/drive/MyDrive/Documento sem título (2).gdoc\n",
            "zip warning: Operation not supported\n",
            "\tzip warning: could not open for reading: content/drive/MyDrive/Documento sem título (2).gdoc\n",
            "  adding: content/drive/MyDrive/Colab Notebooks/ (stored 0%)\n",
            "  adding: content/drive/MyDrive/Colab Notebooks/Copy of cats_and_dogs.ipynb (deflated 77%)\n",
            "  adding: content/drive/MyDrive/Colab Notebooks/cats_and_dogs.ipynb (deflated 26%)\n",
            "  adding: content/drive/MyDrive/Colab Notebooks/Webscraping_jeans.ipynb (deflated 74%)\n",
            "  adding: content/drive/MyDrive/Colab Notebooks/python_para_zumbis.ipynb (deflated 69%)\n",
            "  adding: content/drive/MyDrive/Colab Notebooks/IPOG-aula1.ipynb (deflated 70%)\n",
            "  adding: content/drive/MyDrive/Colab Notebooks/Copy of handwritten.ipynb (deflated 49%)\n",
            "  adding: content/drive/MyDrive/Colab Notebooks/Chapter_3.ipynb (deflated 40%)\n",
            "  adding: content/drive/MyDrive/Colab Notebooks/ler_mapas_detran.ipynb (deflated 38%)\n",
            "  adding: content/drive/MyDrive/Colab Notebooks/cerrado_view.ipynb (deflated 29%)\n",
            "  adding: content/drive/MyDrive/Colab Notebooks/desordem_clean.ipynb (deflated 77%)\n",
            "  adding: content/drive/MyDrive/Colab Notebooks/sgo_eda.ipynb (deflated 36%)\n",
            "  adding: content/drive/MyDrive/Colab Notebooks/Estatistica_IPOG_grupo2.ipynb (deflated 50%)\n",
            "  adding: content/drive/MyDrive/Colab Notebooks/lockdown_cbmdf/ (stored 0%)\n",
            "  adding: content/drive/MyDrive/Colab Notebooks/lockdown_cbmdf/Lockdown cbmdf.ipynb (deflated 63%)\n",
            "  adding: content/drive/MyDrive/Colab Notebooks/lockdown_cbmdf/analise_lockdown.CSV (deflated 93%)\n",
            "  adding: content/drive/MyDrive/Colab Notebooks/lockdown_cbmdf/analise_lockdown2.CSV (deflated 93%)\n",
            "  adding: content/drive/MyDrive/Colab Notebooks/lockdown_cbmdf/analise_lockdownxls.xlsx (deflated 16%)\n",
            "  adding: content/drive/MyDrive/Colab Notebooks/Xplore_b3.ipynb (deflated 28%)\n",
            "  adding: content/drive/MyDrive/Planilha sem título (9).gsheet\n",
            "zip warning: Operation not supported\n",
            "\tzip warning: could not open for reading: content/drive/MyDrive/Planilha sem título (9).gsheet\n",
            "  adding: content/drive/MyDrive/Planilha sem título (8).gsheet\n",
            "zip warning: Operation not supported\n",
            "\tzip warning: could not open for reading: content/drive/MyDrive/Planilha sem título (8).gsheet\n",
            "  adding: content/drive/MyDrive/Saída de Peças.gform\n",
            "zip warning: Operation not supported\n",
            "\tzip warning: could not open for reading: content/drive/MyDrive/Saída de Peças.gform\n",
            "  adding: content/drive/MyDrive/Incluir peça.gform\n",
            "zip warning: Operation not supported\n",
            "\tzip warning: could not open for reading: content/drive/MyDrive/Incluir peça.gform\n",
            "  adding: content/drive/MyDrive/Planilha sem título (7).gsheet\n",
            "zip warning: Operation not supported\n",
            "\tzip warning: could not open for reading: content/drive/MyDrive/Planilha sem título (7).gsheet\n",
            "  adding: content/drive/MyDrive/Arabia/ (stored 0%)\n",
            "  adding: content/drive/MyDrive/Arabia/Raisa Latorraca.mp3 (deflated 0%)\n",
            "  adding: content/drive/MyDrive/Arabia/unknown_1635604173[Y2MP3.Net].mp3 (deflated 1%)\n",
            "  adding: content/drive/MyDrive/Arabia/Ancient Arabian Music - Lost City of the Sands.mp3 (deflated 1%)\n",
            "  adding: content/drive/MyDrive/Luminotécnico - Mapa de Locação.pdf (deflated 5%)\n",
            "  adding: content/drive/MyDrive/Nomes_menino.gsheet\n",
            "zip warning: Operation not supported\n",
            "\tzip warning: could not open for reading: content/drive/MyDrive/Nomes_menino.gsheet\n",
            "  adding: content/drive/MyDrive/[AULA LCM] Escola do Discipulado.docx (deflated 15%)\n",
            "  adding: content/drive/MyDrive/Orçamentos iluminação.gsheet\n",
            "zip warning: Operation not supported\n",
            "\tzip warning: could not open for reading: content/drive/MyDrive/Orçamentos iluminação.gsheet\n",
            "  adding: content/drive/MyDrive/Contrato pintura.gdoc\n",
            "zip warning: Operation not supported\n",
            "\tzip warning: could not open for reading: content/drive/MyDrive/Contrato pintura.gdoc\n",
            "  adding: content/drive/MyDrive/Documento sem título (1).gdoc\n",
            "zip warning: Operation not supported\n",
            "\tzip warning: could not open for reading: content/drive/MyDrive/Documento sem título (1).gdoc\n",
            "  adding: content/drive/MyDrive/10.1.1.218.2047.pdf (deflated 6%)\n",
            "  adding: content/drive/MyDrive/A Vida Dos Estoicos - Ryan Holiday e Stephen Hanselman.pdf (deflated 17%)\n",
            "  adding: content/drive/MyDrive/Cartas de um Estoico v. I - Sêneca.pdf (deflated 13%)\n",
            "  adding: content/drive/MyDrive/Cartas de um Estoico, Vol. II - Seneca.pdf (deflated 15%)\n",
            "  adding: content/drive/MyDrive/Estoicismo cotidiano - ryan holiday y stephen hanselman.pdf (deflated 11%)\n",
            "  adding: content/drive/MyDrive/O Mahabharata em Português.pdf · versão 1 (1).pdf (deflated 2%)\n",
            "  adding: content/drive/MyDrive/O Mahabharata em Português.pdf · versão 1.pdf (deflated 2%)\n",
            "  adding: content/drive/MyDrive/Abertura de turma / (stored 0%)\n",
            "  adding: content/drive/MyDrive/Abertura de turma /20220202_210910.jpg (deflated 0%)\n",
            "  adding: content/drive/MyDrive/Abertura de turma /20220202_210758.jpg (deflated 0%)\n",
            "  adding: content/drive/MyDrive/Abertura de turma /20220202_210752.jpg (deflated 0%)\n",
            "  adding: content/drive/MyDrive/Abertura de turma /20220202_210730.jpg (deflated 0%)\n",
            "  adding: content/drive/MyDrive/Abertura de turma /20220202_210647.jpg (deflated 0%)\n",
            "  adding: content/drive/MyDrive/Abertura de turma /20220202_210603.jpg (deflated 0%)\n",
            "  adding: content/drive/MyDrive/Abertura de turma /20220202_210531.jpg (deflated 0%)\n",
            "  adding: content/drive/MyDrive/Abertura de turma /20220202_210451.jpg (deflated 0%)\n",
            "  adding: content/drive/MyDrive/Abertura de turma /20220202_210428.jpg (deflated 0%)\n",
            "  adding: content/drive/MyDrive/Abertura de turma /20220202_210423.jpg (deflated 1%)\n",
            "  adding: content/drive/MyDrive/Abertura de turma /20220202_210359.jpg (deflated 0%)\n",
            "  adding: content/drive/MyDrive/Abertura de turma /20220202_210252.jpg (deflated 0%)\n",
            "  adding: content/drive/MyDrive/Abertura de turma /20220202_210228.jpg (deflated 0%)\n",
            "  adding: content/drive/MyDrive/Abertura de turma /20220202_210158.jpg (deflated 0%)\n",
            "  adding: content/drive/MyDrive/Abertura de turma /20220202_210114.jpg (deflated 0%)\n",
            "  adding: content/drive/MyDrive/Abertura de turma /20220202_205840.jpg (deflated 0%)\n",
            "  adding: content/drive/MyDrive/Abertura de turma /20220202_205801.jpg (deflated 0%)\n",
            "  adding: content/drive/MyDrive/Abertura de turma /Voz 008.m4a (deflated 1%)\n",
            "  adding: content/drive/MyDrive/Planilha sem título (6).gsheet\n",
            "zip warning: Operation not supported\n",
            "\tzip warning: could not open for reading: content/drive/MyDrive/Planilha sem título (6).gsheet\n",
            "  adding: content/drive/MyDrive/Planilha sem título (5).gsheet\n",
            "zip warning: Operation not supported\n",
            "\tzip warning: could not open for reading: content/drive/MyDrive/Planilha sem título (5).gsheet\n",
            "  adding: content/drive/MyDrive/Atividades no Portal Edify.pdf (deflated 4%)\n",
            "  adding: content/drive/MyDrive/Currículo (2).gdoc\n",
            "zip warning: Operation not supported\n",
            "\tzip warning: could not open for reading: content/drive/MyDrive/Currículo (2).gdoc\n",
            "  adding: content/drive/MyDrive/Currículo (1).gdoc\n",
            "zip warning: Operation not supported\n",
            "\tzip warning: could not open for reading: content/drive/MyDrive/Currículo (1).gdoc\n",
            "  adding: content/drive/MyDrive/Planilha sem título (4).gsheet\n",
            "zip warning: Operation not supported\n",
            "\tzip warning: could not open for reading: content/drive/MyDrive/Planilha sem título (4).gsheet\n",
            "  adding: content/drive/MyDrive/IPOG_Python.gdoc\n",
            "zip warning: Operation not supported\n",
            "\tzip warning: could not open for reading: content/drive/MyDrive/IPOG_Python.gdoc\n",
            "  adding: content/drive/MyDrive/Lucas 1 and other 2 documents (deflated 7%)\n",
            "  adding: content/drive/MyDrive/Documento sem título.gdoc\n",
            "zip warning: Operation not supported\n",
            "\tzip warning: could not open for reading: content/drive/MyDrive/Documento sem título.gdoc\n",
            "  adding: content/drive/MyDrive/Documento de Ener (deflated 0%)\n",
            "  adding: content/drive/MyDrive/Currículo.gdoc\n",
            "zip warning: Operation not supported\n",
            "\tzip warning: could not open for reading: content/drive/MyDrive/Currículo.gdoc\n",
            "  adding: content/drive/MyDrive/cortada.mp3 (deflated 2%)\n",
            "  adding: content/drive/MyDrive/FreeStyler.zip (stored 0%)\n",
            "  adding: content/drive/MyDrive/Contrato Ener.pdf (deflated 11%)\n",
            "  adding: content/drive/MyDrive/contrato Kings assinado.pdf (deflated 2%)\n",
            "  adding: content/drive/MyDrive/QuintoAndar reembolsos duplicados.gdoc\n",
            "zip warning: Operation not supported\n",
            "\tzip warning: could not open for reading: content/drive/MyDrive/QuintoAndar reembolsos duplicados.gdoc\n",
            "  adding: content/drive/MyDrive/Planilha sem título (3).gsheet\n",
            "zip warning: Operation not supported\n",
            "\tzip warning: could not open for reading: content/drive/MyDrive/Planilha sem título (3).gsheet\n",
            "  adding: content/drive/MyDrive/2022.05.02_Base_Bruta.xlsx (deflated 1%)\n",
            "  adding: content/drive/MyDrive/Dados Painel Muniz.gsheet\n",
            "zip warning: Operation not supported\n",
            "\tzip warning: could not open for reading: content/drive/MyDrive/Dados Painel Muniz.gsheet\n",
            "  adding: content/drive/MyDrive/Cópia de Minuta de Ofício -Teatro Pedro Calmon.gdoc\n",
            "zip warning: Operation not supported\n",
            "\tzip warning: could not open for reading: content/drive/MyDrive/Cópia de Minuta de Ofício -Teatro Pedro Calmon.gdoc\n",
            "  adding: content/drive/MyDrive/Relações Institucionais - Contatos - NAAS.gsheet\n",
            "zip warning: Operation not supported\n",
            "\tzip warning: could not open for reading: content/drive/MyDrive/Relações Institucionais - Contatos - NAAS.gsheet\n",
            "  adding: content/drive/MyDrive/Apresentação sem título - Gráfico de barras 1.gsheet\n",
            "zip warning: Operation not supported\n",
            "\tzip warning: could not open for reading: content/drive/MyDrive/Apresentação sem título - Gráfico de barras 1.gsheet\n",
            "  adding: content/drive/MyDrive/Apresentação sem título.gslides\n",
            "zip warning: Operation not supported\n",
            "\tzip warning: could not open for reading: content/drive/MyDrive/Apresentação sem título.gslides\n",
            "  adding: content/drive/MyDrive/contagem recanto.gsheet\n",
            "zip warning: Operation not supported\n",
            "\tzip warning: could not open for reading: content/drive/MyDrive/contagem recanto.gsheet\n",
            "  adding: content/drive/MyDrive/20220526_144317.jpg (deflated 0%)\n",
            "  adding: content/drive/MyDrive/Gestão de Dados - SSP SGI.gdoc\n",
            "zip warning: Operation not supported\n",
            "\tzip warning: could not open for reading: content/drive/MyDrive/Gestão de Dados - SSP SGI.gdoc\n",
            "  adding: content/drive/MyDrive/Minuta de Ofício -Teatro Pedro Calmon.gdoc\n",
            "zip warning: Operation not supported\n",
            "\tzip warning: could not open for reading: content/drive/MyDrive/Minuta de Ofício -Teatro Pedro Calmon.gdoc\n",
            "  adding: content/drive/MyDrive/auto de arrematação montreuc.pdf (deflated 14%)\n",
            "  adding: content/drive/MyDrive/carta de arrematação Montreux .pdf (deflated 34%)\n",
            "  adding: content/drive/MyDrive/Medidas monitor ultrawide.gsheet\n",
            "zip warning: Operation not supported\n",
            "\tzip warning: could not open for reading: content/drive/MyDrive/Medidas monitor ultrawide.gsheet\n",
            "  adding: content/drive/MyDrive/Tentativa de homicidio 2019_2022 (1).gsheet\n",
            "zip warning: Operation not supported\n",
            "\tzip warning: could not open for reading: content/drive/MyDrive/Tentativa de homicidio 2019_2022 (1).gsheet\n",
            "  adding: content/drive/MyDrive/Tentativa de homicidio 2019_2022.gsheet\n",
            "zip warning: Operation not supported\n",
            "\tzip warning: could not open for reading: content/drive/MyDrive/Tentativa de homicidio 2019_2022.gsheet\n",
            "  adding: content/drive/MyDrive/0144207-74.2009.8.26.0100.pdf (deflated 14%)\n",
            "  adding: content/drive/MyDrive/doc_219074301.pdf (deflated 34%)\n",
            "  adding: content/drive/MyDrive/ITBI.pdf (deflated 54%)\n",
            "  adding: content/drive/MyDrive/O Porvir do Brasil - Jinarajadasa.pdf (deflated 0%)\n",
            "  adding: content/drive/MyDrive/Planilha sem título (2).gsheet\n",
            "zip warning: Operation not supported\n",
            "\tzip warning: could not open for reading: content/drive/MyDrive/Planilha sem título (2).gsheet\n",
            "  adding: content/drive/MyDrive/new - Reunião Pré-Ciclo - 07-JUL-22.pptx (deflated 0%)\n",
            "  adding: content/drive/MyDrive/marciapcdf@gmail.com.gslides\n",
            "zip warning: Operation not supported\n",
            "\tzip warning: could not open for reading: content/drive/MyDrive/marciapcdf@gmail.com.gslides\n",
            "  adding: content/drive/MyDrive/O Decálogo dos Instrutores.gdoc\n",
            "zip warning: Operation not supported\n",
            "\tzip warning: could not open for reading: content/drive/MyDrive/O Decálogo dos Instrutores.gdoc\n",
            "  adding: content/drive/MyDrive/Shhhh Cave.mp3 (deflated 1%)\n",
            "  adding: content/drive/MyDrive/E-book Método AMAR Sono Infantil  - Renata Alcântara.pdf (deflated 7%)\n",
            "  adding: content/drive/MyDrive/Planilha sem título (1).gsheet\n",
            "zip warning: Operation not supported\n",
            "\tzip warning: could not open for reading: content/drive/MyDrive/Planilha sem título (1).gsheet\n",
            "  adding: content/drive/MyDrive/Planilha sem título.gsheet\n",
            "zip warning: Operation not supported\n",
            "\tzip warning: could not open for reading: content/drive/MyDrive/Planilha sem título.gsheet\n",
            "  adding: content/drive/MyDrive/ConselhoFazenda17_18 (1).docx (deflated 15%)\n",
            "  adding: content/drive/MyDrive/Perguntas HFM.gdoc\n",
            "zip warning: Operation not supported\n",
            "\tzip warning: could not open for reading: content/drive/MyDrive/Perguntas HFM.gdoc\n",
            "  adding: content/drive/Othercomputers/ (stored 0%)\n",
            "  adding: content/drive/Othercomputers/Meu computador/ (stored 0%)\n",
            "  adding: content/drive/Othercomputers/Meu computador/Google Drive/ (stored 0%)\n",
            "  adding: content/drive/Othercomputers/Meu modelo Laptop/ (stored 0%)\n",
            "  adding: content/drive/Othercomputers/Meu modelo Laptop/Google Drive/ (stored 0%)\n",
            "  adding: content/drive/.file-revisions-by-id/ (stored 0%)\n",
            "  adding: content/drive/.Trash-0/ (stored 0%)\n",
            "  adding: content/drive/.Trash-0/files/ (stored 0%)\n",
            "  adding: content/drive/.Trash-0/info/ (stored 0%)\n",
            "  adding: content/sample_data/ (stored 0%)\n",
            "  adding: content/sample_data/README.md (deflated 42%)\n",
            "  adding: content/sample_data/anscombe.json (deflated 83%)\n",
            "  adding: content/sample_data/mnist_test.csv (deflated 88%)\n",
            "  adding: content/sample_data/california_housing_test.csv (deflated 76%)\n",
            "  adding: content/sample_data/california_housing_train.csv (deflated 79%)\n",
            "  adding: content/sample_data/mnist_train_small.csv (deflated 88%)\n",
            "\n",
            "zip warning: Not all files were readable\n",
            "  files/entries read:  216 (437M bytes)  skipped:  94 (13K bytes)\n"
          ]
        }
      ],
      "source": [
        " !zip -r graph.zip /content/ \n",
        "\n"
      ]
    },
    {
      "cell_type": "code",
      "execution_count": 35,
      "metadata": {
        "id": "V79iLsROZMyV",
        "colab": {
          "base_uri": "https://localhost:8080/",
          "height": 130
        },
        "outputId": "ef9ce876-5547-4f51-cf8d-489df378e2a7"
      },
      "outputs": [
        {
          "output_type": "error",
          "ename": "SyntaxError",
          "evalue": "ignored",
          "traceback": [
            "\u001b[0;36m  File \u001b[0;32m\"<ipython-input-35-e20120b4aec1>\"\u001b[0;36m, line \u001b[0;32m1\u001b[0m\n\u001b[0;31m    content/Distribuição(de, Ocorrências, em, ACIDENTE, COM, VEICULO, -, GERAL, -, ACIDENTE, TERRESTRE, NAO, IDENTIFICADO.png)\u001b[0m\n\u001b[0m                                                                       ^\u001b[0m\n\u001b[0;31mSyntaxError\u001b[0m\u001b[0;31m:\u001b[0m invalid syntax\n"
          ]
        }
      ],
      "source": [
        "/content/Distribuição de Ocorrências em ACIDENTE COM VEICULO - GERAL - ACIDENTE TERRESTRE NAO IDENTIFICADO.png"
      ]
    },
    {
      "cell_type": "code",
      "source": [],
      "metadata": {
        "id": "D1_iuKnEU79N"
      },
      "execution_count": null,
      "outputs": []
    }
  ],
  "metadata": {
    "colab": {
      "provenance": [],
      "mount_file_id": "1R25xIp6UpJIU3YIQ7fIpkF0kNpIXoNO2",
      "authorship_tag": "ABX9TyNFR2AMZjeGbf8Zpft7ys71",
      "include_colab_link": true
    },
    "kernelspec": {
      "display_name": "Python 3",
      "name": "python3"
    },
    "language_info": {
      "name": "python"
    }
  },
  "nbformat": 4,
  "nbformat_minor": 0
}