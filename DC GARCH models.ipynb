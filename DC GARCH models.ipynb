{
 "cells": [
  {
   "cell_type": "markdown",
   "metadata": {},
   "source": [
    "##"
   ]
  },
  {
   "cell_type": "markdown",
   "metadata": {},
   "source": [
    "# GARCH Model Fundamentals\n"
   ]
  },
  {
   "cell_type": "markdown",
   "metadata": {},
   "source": [
    "## Why do we need GARCH models\n"
   ]
  },
  {
   "cell_type": "markdown",
   "metadata": {},
   "source": [
    "GARCH: Generalized Auto Regressive Conditional Heteroskedasticity\n",
    "\n",
    "It is a popoular approach for volatility.\n",
    "\n",
    "Volatility: Dispersion of a asset return over time. Often described as the STD or var of price returns.\n",
    "\n",
    "Heteroskedasticity: volatility is not constant over time\n",
    "\n"
   ]
  },
  {
   "cell_type": "markdown",
   "metadata": {},
   "source": [
    "### Observe volatility clustering\n"
   ]
  },
  {
   "cell_type": "code",
   "execution_count": null,
   "metadata": {},
   "outputs": [],
   "source": [
    "# Calculate daily returns as percentage price changes\n",
    "sp_price['Return'] = 100 * (sp_price['Close'].pct_change())\n",
    "\n",
    "# View the data\n",
    "print(sp_price.tail(10))\n",
    "\n",
    "# plot the data\n",
    "plt.plot(sp_price['Return'], color = 'tomato', label = 'Daily Returns')\n",
    "plt.legend(loc='upper right')\n",
    "plt.show()"
   ]
  },
  {
   "cell_type": "markdown",
   "metadata": {},
   "source": [
    "### Calculate volatility\n"
   ]
  },
  {
   "cell_type": "code",
   "execution_count": null,
   "metadata": {},
   "outputs": [],
   "source": [
    "# Plot the price returns\n",
    "plt.plot(sp_data['Return'], color = 'orange')\n",
    "plt.show()\n",
    "\n",
    "# Calculate daily std of returns\n",
    "std_daily = sp_data['Return'].std()\n",
    "print('Daily volatility: ', '{:.2f}%'.format(std_daily))\n",
    "\n",
    "# Convert daily volatility to monthly volatility\n",
    "std_monthly = math.sqrt(21) * std_daily\n",
    "print ('Monthly volatility: ', '{:.2f}%'.format(std_monthly))\n",
    "\n",
    "# Convert daily volatility to annaul volatility\n",
    "std_annual = math.sqrt(252) * std_daily\n",
    "print ('Annual volatility: ', '{:.2f}%'.format(std_annual))"
   ]
  },
  {
   "cell_type": "markdown",
   "metadata": {},
   "source": [
    "##  What are ARCH and GARCH\n",
    "\n"
   ]
  },
  {
   "cell_type": "markdown",
   "metadata": {},
   "source": [
    "A white noise proccess: Independent variables and identcally distributed with mean = 0\n",
    "\n",
    "Residual = predicted value - observed value\n",
    "\n",
    "If the prediction model is good, the residual is a white noise.\n",
    "\n",
    "Expected return:\n",
    "\n",
    "Mu_t = Expected[r_t|I(t-1)]\n",
    "\n",
    "Residual (prediction error)\n",
    "\n",
    "r_t = mu_t + E_t\n",
    "\n",
    "Expected vol:\n",
    "\n",
    "s^2 = Expected[(r_t-Mu_t)^2 | I(t-1)]\n",
    "\n",
    "Volatility related to the residuals:\n",
    "\n",
    "E_t = s_t * f(white_noise)"
   ]
  },
  {
   "cell_type": "markdown",
   "metadata": {},
   "source": [
    " GARCH variance forecast can be interpreted as a weighted average of three different variance forecasts:\n",
    " * One is a constant variance that corresponds to the long run average.\n",
    " * The second is the new information that was not available when the previous forecast was made.\n",
    " * The third is the forecast that was made in the previous period.\n",
    " \n",
    " The weights on these three forecasts determine how fast the variance changes with new information and how fast it reverts to its long run mean.\n",
    "\n",
    "\n",
    " Difference between an ARCH(1) and a GARCH(1,1) model is: besides an autoregressive component of  multiplying lag-1 residual squared, a GARCH model includes a moving average component of  multiplying lag-1 variance."
   ]
  },
  {
   "cell_type": "markdown",
   "metadata": {},
   "source": [
    "### Simulate ARCH and GARCH series\n"
   ]
  },
  {
   "cell_type": "code",
   "execution_count": null,
   "metadata": {},
   "outputs": [],
   "source": [
    "# Simulate a ARCH(1) series\n",
    "arch_resid, arch_variance = simulate_GARCH(n= 200, \n",
    "                                           omega = 0.1, alpha = 0.7)\n",
    "# Simulate a GARCH(1,1) series\n",
    "garch_resid, garch_variance = simulate_GARCH(n= 200, \n",
    "                                             omega = 0.1, alpha = 0.7, \n",
    "                                             beta = 0.1)\n",
    "# Plot the ARCH variance\n",
    "plt.plot(arch_variance, color = 'red', label = 'ARCH Variance')\n",
    "# Plot the GARCH variance\n",
    "plt.plot(garch_variance, color = 'orange', label = 'GARCH Variance')\n",
    "plt.legend()\n",
    "plt.show()"
   ]
  },
  {
   "cell_type": "code",
   "execution_count": null,
   "metadata": {},
   "outputs": [],
   "source": [
    "# First simulated GARCH\n",
    "sim_resid, sim_variance = simulate_GARCH(n = 200,  omega = 0.1, \n",
    "                                          alpha = 0.3, beta = 0.2)\n",
    "plt.plot(sim_variance, color = 'orange', label = 'Variance')\n",
    "plt.plot(sim_resid, color = 'green', label = 'Residuals')\n",
    "plt.legend(loc='upper right')\n",
    "plt.show()"
   ]
  },
  {
   "cell_type": "markdown",
   "metadata": {},
   "source": [
    "## How to implement GARCH models in Python\n"
   ]
  },
  {
   "cell_type": "markdown",
   "metadata": {},
   "source": [
    "### Implement a basic GARCH model\n"
   ]
  },
  {
   "cell_type": "code",
   "execution_count": null,
   "metadata": {},
   "outputs": [],
   "source": [
    "# Specify GARCH model assumptions\n",
    "basic_gm = arch_model(sp_data['Return'], p = 1, q = 1,\n",
    "                      mean = 'constant', vol = 'GARCH', dist = 'normal')\n",
    "# Fit the model\n",
    "gm_result = basic_gm.fit(update_freq = 4)\n",
    "\n",
    "# Display model fitting summary\n",
    "print(gm_result.summary())\n",
    "\n",
    "# Plot fitted results\n",
    "gm_result.plot()\n",
    "plt.show()"
   ]
  },
  {
   "cell_type": "markdown",
   "metadata": {},
   "source": [
    "### Make forecast with GARCH models"
   ]
  },
  {
   "cell_type": "code",
   "execution_count": null,
   "metadata": {},
   "outputs": [],
   "source": [
    "# Specify a GARCH(1,1) model\n",
    "basic_gm = arch_model(sp_data['Return'], p = 1, q = 1, \n",
    "                      mean = 'constant', vol = 'GARCH', dist = 'normal')\n",
    "# Fit the model\n",
    "gm_result = basic_gm.fit()\n",
    "\n",
    "# Make 5-period ahead forecast\n",
    "gm_forecast = gm_result.forecast(horizon = 5)\n",
    "\n",
    "# Print the forecast variance\n",
    "print(gm_forecast.variance[-1:])"
   ]
  },
  {
   "cell_type": "markdown",
   "metadata": {},
   "source": [
    "# GARCH Model Configuration\n"
   ]
  },
  {
   "cell_type": "markdown",
   "metadata": {},
   "source": [
    "## Distribution assumptions\n"
   ]
  },
  {
   "cell_type": "markdown",
   "metadata": {},
   "source": []
  },
  {
   "cell_type": "markdown",
   "metadata": {},
   "source": [
    "# Model Performance Evaluation\n"
   ]
  },
  {
   "cell_type": "markdown",
   "metadata": {},
   "source": []
  },
  {
   "cell_type": "markdown",
   "metadata": {},
   "source": [
    "# GARCH in Action"
   ]
  },
  {
   "cell_type": "markdown",
   "metadata": {},
   "source": []
  }
 ],
 "metadata": {
  "language_info": {
   "name": "python"
  },
  "orig_nbformat": 4
 },
 "nbformat": 4,
 "nbformat_minor": 2
}
