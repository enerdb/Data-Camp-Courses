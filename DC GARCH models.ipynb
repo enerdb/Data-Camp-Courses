{
 "cells": [
  {
   "cell_type": "markdown",
   "metadata": {},
   "source": [
    "##"
   ]
  },
  {
   "cell_type": "markdown",
   "metadata": {},
   "source": [
    "# GARCH Model Fundamentals\n"
   ]
  },
  {
   "cell_type": "markdown",
   "metadata": {},
   "source": [
    "## Why do we need GARCH models\n"
   ]
  },
  {
   "cell_type": "markdown",
   "metadata": {},
   "source": [
    "GARCH: Generalized Auto Regressive Conditional Heteroskedasticity\n",
    "\n",
    "It is a popoular approach for volatility.\n",
    "\n",
    "Volatility: Dispersion of a asset return over time. Often described as the STD or var of price returns.\n",
    "\n",
    "Heteroskedasticity: volatility is not constant over time\n",
    "\n"
   ]
  },
  {
   "cell_type": "markdown",
   "metadata": {},
   "source": [
    "### Observe volatility clustering\n"
   ]
  },
  {
   "cell_type": "code",
   "execution_count": null,
   "metadata": {},
   "outputs": [],
   "source": [
    "# Calculate daily returns as percentage price changes\n",
    "sp_price['Return'] = 100 * (sp_price['Close'].pct_change())\n",
    "\n",
    "# View the data\n",
    "print(sp_price.tail(10))\n",
    "\n",
    "# plot the data\n",
    "plt.plot(sp_price['Return'], color = 'tomato', label = 'Daily Returns')\n",
    "plt.legend(loc='upper right')\n",
    "plt.show()"
   ]
  },
  {
   "cell_type": "markdown",
   "metadata": {},
   "source": [
    "### Calculate volatility\n"
   ]
  },
  {
   "cell_type": "code",
   "execution_count": null,
   "metadata": {},
   "outputs": [],
   "source": [
    "# Plot the price returns\n",
    "plt.plot(sp_data['Return'], color = 'orange')\n",
    "plt.show()\n",
    "\n",
    "# Calculate daily std of returns\n",
    "std_daily = sp_data['Return'].std()\n",
    "print('Daily volatility: ', '{:.2f}%'.format(std_daily))\n",
    "\n",
    "# Convert daily volatility to monthly volatility\n",
    "std_monthly = math.sqrt(21) * std_daily\n",
    "print ('Monthly volatility: ', '{:.2f}%'.format(std_monthly))\n",
    "\n",
    "# Convert daily volatility to annaul volatility\n",
    "std_annual = math.sqrt(252) * std_daily\n",
    "print ('Annual volatility: ', '{:.2f}%'.format(std_annual))"
   ]
  },
  {
   "cell_type": "markdown",
   "metadata": {},
   "source": [
    "##  What are ARCH and GARCH\n",
    "\n"
   ]
  },
  {
   "cell_type": "markdown",
   "metadata": {},
   "source": [
    "A white noise proccess: Independent variables and identcally distributed with mean = 0\n",
    "\n",
    "Residual = predicted value - observed value\n",
    "\n",
    "If the prediction model is good, the residual is a white noise.\n",
    "\n",
    "Expected return:\n",
    "\n",
    "Mu_t = Expected[r_t|I(t-1)]\n",
    "\n",
    "Residual (prediction error)\n",
    "\n",
    "r_t = mu_t + E_t\n",
    "\n",
    "Expected vol:\n",
    "\n",
    "s^2 = Expected[(r_t-Mu_t)^2 | I(t-1)]\n",
    "\n",
    "Volatility related to the residuals:\n",
    "\n",
    "E_t = s_t * f(white_noise)"
   ]
  },
  {
   "cell_type": "markdown",
   "metadata": {},
   "source": [
    " GARCH variance forecast can be interpreted as a weighted average of three different variance forecasts:\n",
    " * One is a constant variance that corresponds to the long run average.\n",
    " * The second is the new information that was not available when the previous forecast was made.\n",
    " * The third is the forecast that was made in the previous period.\n",
    " \n",
    " The weights on these three forecasts determine how fast the variance changes with new information and how fast it reverts to its long run mean.\n",
    "\n",
    "\n",
    " Difference between an ARCH(1) and a GARCH(1,1) model is: besides an autoregressive component of  multiplying lag-1 residual squared, a GARCH model includes a moving average component of  multiplying lag-1 variance."
   ]
  },
  {
   "cell_type": "markdown",
   "metadata": {},
   "source": [
    "### Simulate ARCH and GARCH series\n"
   ]
  },
  {
   "cell_type": "code",
   "execution_count": null,
   "metadata": {},
   "outputs": [],
   "source": [
    "# Simulate a ARCH(1) series\n",
    "arch_resid, arch_variance = simulate_GARCH(n= 200, \n",
    "                                           omega = 0.1, alpha = 0.7)\n",
    "# Simulate a GARCH(1,1) series\n",
    "garch_resid, garch_variance = simulate_GARCH(n= 200, \n",
    "                                             omega = 0.1, alpha = 0.7, \n",
    "                                             beta = 0.1)\n",
    "# Plot the ARCH variance\n",
    "plt.plot(arch_variance, color = 'red', label = 'ARCH Variance')\n",
    "# Plot the GARCH variance\n",
    "plt.plot(garch_variance, color = 'orange', label = 'GARCH Variance')\n",
    "plt.legend()\n",
    "plt.show()"
   ]
  },
  {
   "cell_type": "code",
   "execution_count": null,
   "metadata": {},
   "outputs": [],
   "source": [
    "# First simulated GARCH\n",
    "sim_resid, sim_variance = simulate_GARCH(n = 200,  omega = 0.1, \n",
    "                                          alpha = 0.3, beta = 0.2)\n",
    "plt.plot(sim_variance, color = 'orange', label = 'Variance')\n",
    "plt.plot(sim_resid, color = 'green', label = 'Residuals')\n",
    "plt.legend(loc='upper right')\n",
    "plt.show()"
   ]
  },
  {
   "cell_type": "markdown",
   "metadata": {},
   "source": [
    "## How to implement GARCH models in Python\n"
   ]
  },
  {
   "cell_type": "markdown",
   "metadata": {},
   "source": [
    "### Implement a basic GARCH model\n"
   ]
  },
  {
   "cell_type": "code",
   "execution_count": null,
   "metadata": {},
   "outputs": [],
   "source": [
    "# Specify GARCH model assumptions\n",
    "basic_gm = arch_model(sp_data['Return'], p = 1, q = 1,\n",
    "                      mean = 'constant', vol = 'GARCH', dist = 'normal')\n",
    "# Fit the model\n",
    "gm_result = basic_gm.fit(update_freq = 4)\n",
    "\n",
    "# Display model fitting summary\n",
    "print(gm_result.summary())\n",
    "\n",
    "# Plot fitted results\n",
    "gm_result.plot()\n",
    "plt.show()"
   ]
  },
  {
   "cell_type": "markdown",
   "metadata": {},
   "source": [
    "### Make forecast with GARCH models"
   ]
  },
  {
   "cell_type": "code",
   "execution_count": null,
   "metadata": {},
   "outputs": [],
   "source": [
    "# Specify a GARCH(1,1) model\n",
    "basic_gm = arch_model(sp_data['Return'], p = 1, q = 1, \n",
    "                      mean = 'constant', vol = 'GARCH', dist = 'normal')\n",
    "# Fit the model\n",
    "gm_result = basic_gm.fit()\n",
    "\n",
    "# Make 5-period ahead forecast\n",
    "gm_forecast = gm_result.forecast(horizon = 5)\n",
    "\n",
    "# Print the forecast variance\n",
    "print(gm_forecast.variance[-1:])"
   ]
  },
  {
   "cell_type": "markdown",
   "metadata": {},
   "source": [
    "# GARCH Model Configuration\n"
   ]
  },
  {
   "cell_type": "markdown",
   "metadata": {},
   "source": [
    "## Distribution assumptions\n"
   ]
  },
  {
   "cell_type": "markdown",
   "metadata": {},
   "source": [
    "### Plot distribution of standardized residuals\n"
   ]
  },
  {
   "cell_type": "code",
   "execution_count": null,
   "metadata": {},
   "outputs": [],
   "source": [
    "# Obtain model estimated residuals and volatility\n",
    "gm_resid = gm_result.resid\n",
    "gm_std = gm_result.conditional_volatility\n",
    "\n",
    "# Calculate the standardized residuals\n",
    "gm_std_resid = gm_resid /gm_std\n",
    "\n",
    "# Plot the histogram of the standardized residuals\n",
    "plt.hist(gm_std_resid, bins = 50, \n",
    "         facecolor = 'orange', label = 'Standardized residuals')\n",
    "plt.hist(normal_resid, bins = 50, \n",
    "         facecolor = 'tomato', label = 'Normal residuals')\n",
    "plt.legend(loc = 'upper left')\n",
    "plt.show()"
   ]
  },
  {
   "cell_type": "markdown",
   "metadata": {},
   "source": [
    "### Fit a GARCH with skewed t-distribution\n"
   ]
  },
  {
   "cell_type": "code",
   "execution_count": null,
   "metadata": {},
   "outputs": [],
   "source": [
    "# Specify GARCH model assumptions\n",
    "skewt_gm = arch_model(sp_data['Return'], p = 1, q = 1, mean = 'constant', vol = 'GARCH', dist = 'skewt')\n",
    "# Fit the model\n",
    "skewt_result = skewt_gm.fit()\n",
    "\n",
    "# Get model estimated volatility\n",
    "skewt_vol = skewt_result.conditional_volatility\n",
    "\n",
    "# Plot model fitting results\n",
    "plt.plot(skewt_vol, color = 'gold', label = 'Skewed-t Volatility')\n",
    "plt.plot(normal_vol, color = 'red', label = 'Normal Volatility')\n",
    "plt.plot(sp_data['Return'], color = 'grey', \n",
    "         label = 'Daily Returns', alpha = 0.4)\n",
    "plt.legend(loc = 'upper right')\n",
    "plt.show()"
   ]
  },
  {
   "cell_type": "markdown",
   "metadata": {},
   "source": [
    "## Mean model specifications\n"
   ]
  },
  {
   "cell_type": "markdown",
   "metadata": {},
   "source": [
    "### Effect of mean model on volatility predictions\n"
   ]
  },
  {
   "cell_type": "code",
   "execution_count": null,
   "metadata": {},
   "outputs": [],
   "source": [
    "# Print model summary of GARCH with constant mean\n",
    "print(cmean_result.summary())\n",
    "# Print model summary of GARCH with AR mean\n",
    "print(armean_result.summary())\n",
    "\n",
    "# Plot model volatility \n",
    "plt.plot(cmean_vol, color = 'blue', label = 'Constant Mean Volatility')\n",
    "plt.plot(armean_vol, color = 'red', label = 'AR Mean Volatility')\n",
    "plt.legend(loc = 'upper right')\n",
    "plt.show()\n",
    "\n",
    "# Check correlation of volatility estimations\n",
    "print(np.corrcoef(cmean_vol, armean_vol)[0,1])"
   ]
  },
  {
   "cell_type": "markdown",
   "metadata": {},
   "source": [
    "## Volatility models for asymmetric shocks\n"
   ]
  },
  {
   "cell_type": "markdown",
   "metadata": {},
   "source": [
    "GJR GARCH implements a condition for the vol rise in the model.\n",
    "\n",
    "EGARCH uses exponential effect on asymetric shocks."
   ]
  },
  {
   "cell_type": "code",
   "execution_count": null,
   "metadata": {},
   "outputs": [],
   "source": [
    "# Specify model assumptions\n",
    "gjr_gm = arch_model(bitcoin_data['Return'], p = 1, q = 1, o = 1, vol = 'GARCH', dist = 't')\n",
    "\n",
    "# Fit the model\n",
    "gjrgm_result = gjr_gm.fit(disp = 'off')\n",
    "\n",
    "# Print model fitting summary\n",
    "print(gjrgm_result.summary())"
   ]
  },
  {
   "cell_type": "code",
   "execution_count": null,
   "metadata": {},
   "outputs": [],
   "source": [
    "# Specify model assumptions\n",
    "egarch_gm = arch_model(bitcoin_data['Return'], p = 1, q = 1, o = 1, vol = 'EGARCH', dist = 't')\n",
    "\n",
    "# Fit the model\n",
    "egarch_result = egarch_gm.fit(disp = 'off')\n",
    "\n",
    "# Print model fitting summary\n",
    "print(egarch_result.summary())"
   ]
  },
  {
   "cell_type": "markdown",
   "metadata": {},
   "source": [
    "### Compare GJR-GARCH with EGARCH\n"
   ]
  },
  {
   "cell_type": "code",
   "execution_count": null,
   "metadata": {},
   "outputs": [],
   "source": [
    "# Plot the actual Bitcoin returns\n",
    "plt.plot(bitcoin_data['Return'], color = 'grey', alpha = 0.4, label = 'Price Returns')\n",
    "\n",
    "# Plot GJR-GARCH estimated volatility\n",
    "plt.plot(gjrgm_vol, color = 'gold', label = 'GJR-GARCH Volatility')\n",
    "\n",
    "# Plot EGARCH  estimated volatility\n",
    "plt.plot(egarch_vol, color = 'red', label = 'EGARCH Volatility')\n",
    "\n",
    "plt.legend(loc = 'upper right')\n",
    "plt.show()"
   ]
  },
  {
   "cell_type": "markdown",
   "metadata": {},
   "source": [
    "## GARCH rolling window forecast\n"
   ]
  },
  {
   "cell_type": "markdown",
   "metadata": {},
   "source": [
    "### Fixed rolling window forecast\n"
   ]
  },
  {
   "cell_type": "code",
   "execution_count": null,
   "metadata": {},
   "outputs": [],
   "source": [
    "for i in range(30):\n",
    "    # Specify fixed rolling window size for model fitting\n",
    "    gm_result = basic_gm.fit(first_obs = i + start_loc, \n",
    "                             last_obs = i + end_loc, update_freq = 5)\n",
    "    # Conduct 1-period variance forecast and save the result\n",
    "    temp_result = gm_result.forecast(horizon = 1).variance\n",
    "    fcast = temp_result.iloc[i + end_loc]\n",
    "    forecasts[fcast.name] = fcast\n",
    "# Save all forecast to a dataframe    \n",
    "forecast_var = pd.DataFrame(forecasts).T\n",
    "\n",
    "# Plot the forecast variance\n",
    "plt.plot(forecast_var, color = 'red')\n",
    "plt.plot(sp_data.Return['2019-4-1':'2019-5-10'], color = 'green')\n",
    "plt.show()"
   ]
  },
  {
   "cell_type": "markdown",
   "metadata": {},
   "source": [
    "### Compare forecast results\n"
   ]
  },
  {
   "cell_type": "code",
   "execution_count": null,
   "metadata": {},
   "outputs": [],
   "source": [
    "# Print header of variance forecasts with expanding and fixed window\n",
    "print(variance_expandwin.head())\n",
    "print(variance_fixedwin.head())\n",
    "\n",
    "# Calculate volatility from variance forecast with an expanding window\n",
    "vol_expandwin = np.sqrt(variance_expandwin)\n",
    "# Calculate volatility from variance forecast with a fixed rolling window\n",
    "vol_fixedwin = np.sqrt(variance_fixedwin)\n",
    "\n",
    "# Plot volatility forecast with an expanding window\n",
    "plt.plot(vol_expandwin, color = 'blue')\n",
    "# Plot volatility forecast with a fixed rolling window\n",
    "plt.plot(vol_fixedwin, color = 'red')\n",
    "plt.plot(bitcoin_data.Return['2019-4-1':'2019-9-15'], color = 'chocolate')\n",
    "plt.show()"
   ]
  },
  {
   "cell_type": "markdown",
   "metadata": {},
   "source": [
    "# Model Performance Evaluation\n"
   ]
  },
  {
   "cell_type": "markdown",
   "metadata": {},
   "source": [
    "## Significance testing of model parameters\n"
   ]
  },
  {
   "cell_type": "markdown",
   "metadata": {},
   "source": [
    "### Simplify the model with p-values\n"
   ]
  },
  {
   "cell_type": "code",
   "execution_count": null,
   "metadata": {},
   "outputs": [],
   "source": [
    "# Print model fitting summary\n",
    "print(gm_result.summary())\n",
    "\n",
    "# Get parameter stats from model summary\n",
    "para_summary = pd.DataFrame({'parameter':gm_result.params,\n",
    "                             'p-value': gm_result.pvalues})\n",
    "\n",
    "# Print out parameter stats\n",
    "print(para_summary)"
   ]
  },
  {
   "cell_type": "markdown",
   "metadata": {},
   "source": [
    "### Simplify the model with t-statistics\n"
   ]
  },
  {
   "cell_type": "code",
   "execution_count": null,
   "metadata": {},
   "outputs": [],
   "source": [
    "# Get parameter stats from model summary\n",
    "para_summary = pd.DataFrame({'parameter':gm_result.params,\n",
    "                             'std-err': gm_result.std_err, \n",
    "                             't-value': gm_result.tvalues})\n",
    "\n",
    "# Verify t-statistic by manual calculation\n",
    "calculated_t = para_summary['parameter']/para_summary['std-err']\n",
    "\n",
    "# Print calculated t-value\n",
    "print(calculated_t)\n",
    "\n",
    "# Print parameter stats\n",
    "print(para_summary)"
   ]
  },
  {
   "cell_type": "markdown",
   "metadata": {},
   "source": [
    "## Validation of GARCH model assumptions\n"
   ]
  },
  {
   "cell_type": "markdown",
   "metadata": {},
   "source": [
    "### ACF plot"
   ]
  },
  {
   "cell_type": "code",
   "execution_count": null,
   "metadata": {},
   "outputs": [],
   "source": [
    "# Import the Python module\n",
    "from statsmodels.graphics.tsaplots import plot_acf\n",
    "\n",
    "# Plot the standardized residuals\n",
    "plt.plot(std_resid)\n",
    "plt.title('Standardized Residuals')\n",
    "plt.show()\n",
    "\n",
    "# Generate ACF plot of the standardized residuals\n",
    "plot_acf(std_resid, alpha = 0.05)\n",
    "plt.show()"
   ]
  },
  {
   "cell_type": "markdown",
   "metadata": {},
   "source": [
    "### Ljung-Box test"
   ]
  },
  {
   "cell_type": "code",
   "execution_count": null,
   "metadata": {},
   "outputs": [],
   "source": [
    "# Import the Python module\n",
    "from statsmodels.stats.diagnostic import acorr_ljungbox\n",
    "\n",
    "# Perform the Ljung-Box test\n",
    "lb_test = acorr_ljungbox(std_resid , lags = 10)\n",
    "\n",
    "# Print the p-values\n",
    "print('P-values are: ', lb_test[1])"
   ]
  },
  {
   "cell_type": "markdown",
   "metadata": {},
   "source": [
    "## Goodness of fit measures\n"
   ]
  },
  {
   "cell_type": "markdown",
   "metadata": {},
   "source": [
    "### Pick a winner based on log-likelihood\n"
   ]
  },
  {
   "cell_type": "code",
   "execution_count": null,
   "metadata": {},
   "outputs": [],
   "source": [
    "# Print normal GARCH model summary\n",
    "print(normal_result.summary())\n",
    "# Print skewed GARCH model summary\n",
    "print(skewt_result.summary())\n",
    "\n",
    "# Print the log-likelihodd of normal GARCH\n",
    "print('Log-likelihood of normal GARCH :', normal_result.loglikelihood)\n",
    "# Print the log-likelihodd of skewt GARCH\n",
    "print('Log-likelihood of skewt GARCH :', skewt_result.loglikelihood)"
   ]
  },
  {
   "cell_type": "markdown",
   "metadata": {},
   "source": [
    "### Pick a winner based on AIC/BIC\n"
   ]
  },
  {
   "cell_type": "code",
   "execution_count": null,
   "metadata": {},
   "outputs": [],
   "source": [
    "# Print the AIC GJR-GARCH\n",
    "print('AIC of GJR-GARCH model :', gjrgm_result.aic)\n",
    "# Print the AIC of EGARCH\n",
    "print('AIC of EGARCH model :', egarch_result.aic)\n",
    "\n",
    "# Print the BIC GJR-GARCH\n",
    "print('BIC of GJR-GARCH model :', gjrgm_result.bic)\n",
    "# Print the BIC of EGARCH\n",
    "print('BIC of EGARCH model :', egarch_result.bic)"
   ]
  },
  {
   "cell_type": "markdown",
   "metadata": {},
   "source": [
    "## GARCH model backtesting\n"
   ]
  },
  {
   "cell_type": "markdown",
   "metadata": {},
   "source": [
    "### Backtesting with MAE, MSE\n"
   ]
  },
  {
   "cell_type": "code",
   "execution_count": null,
   "metadata": {},
   "outputs": [],
   "source": [
    "def evaluate(observation, forecast): \n",
    "    # Call sklearn function to calculate MAE\n",
    "    mae = mean_absolute_error(observation, forecast)\n",
    "    print('Mean Absolute Error (MAE): {:.3g}'.format(mae))\n",
    "    # Call sklearn function to calculate MSE\n",
    "    mse = mean_squared_error(observation, forecast)\n",
    "    print('Mean Squared Error (MSE): {:.3g}'.format(mse))\n",
    "    return mae, mse\n",
    "\n",
    "# Backtest model with MAE, MSE\n",
    "evaluate(actual_var, forecast_var)"
   ]
  },
  {
   "cell_type": "markdown",
   "metadata": {},
   "source": [
    "# GARCH in Action"
   ]
  },
  {
   "cell_type": "markdown",
   "metadata": {},
   "source": [
    "## VaR in financial risk management\n"
   ]
  },
  {
   "cell_type": "markdown",
   "metadata": {},
   "source": [
    "### Compute parametric VaR\n"
   ]
  },
  {
   "cell_type": "code",
   "execution_count": null,
   "metadata": {},
   "outputs": [],
   "source": [
    "# Obtain the parametric quantile\n",
    "q_parametric = basic_gm.distribution.ppf(0.05, nu)\n",
    "print('5% parametric quantile: ', q_parametric)\n",
    "    \n",
    "# Calculate the VaR\n",
    "VaR_parametric = mean_forecast.values + np.sqrt(variance_forecast).values * q_parametric\n",
    "# Save VaR in a DataFrame\n",
    "VaR_parametric = pd.DataFrame(VaR_parametric, columns = ['5%'], index = variance_forecast.index)\n",
    "\n",
    "# Plot the VaR\n",
    "plt.plot(VaR_parametric, color = 'red', label = '5% Parametric VaR')\n",
    "plt.scatter(variance_forecast.index,bitcoin_data.Return['2019-1-1':], color = 'orange', label = 'Bitcoin Daily Returns' )\n",
    "plt.legend(loc = 'upper right')\n",
    "plt.show()"
   ]
  },
  {
   "cell_type": "markdown",
   "metadata": {},
   "source": [
    "### Compute empirical VaR\n"
   ]
  },
  {
   "cell_type": "code",
   "execution_count": null,
   "metadata": {},
   "outputs": [],
   "source": [
    "# Obtain the empirical quantile\n",
    "q_empirical = std_resid.quantile(0.05)\n",
    "print('5% empirical quantile: ', q_empirical)\n",
    "\n",
    "# Calculate the VaR\n",
    "VaR_empirical = mean_forecast.values + np.sqrt(variance_forecast).values * q_empirical\n",
    "# Save VaR in a DataFrame\n",
    "VaR_empirical = pd.DataFrame(VaR_empirical, columns = ['5%'], index = variance_forecast.index)\n",
    "\n",
    "# Plot the VaRs\n",
    "plt.plot(VaR_empirical, color = 'brown', label = '5% Empirical VaR')\n",
    "plt.plot(VaR_parametric, color = 'red', label = '5% Parametric VaR')\n",
    "plt.scatter(variance_forecast.index,bitcoin_data.Return['2019-1-1':], color = 'orange', label = 'Bitcoin Daily Returns' )\n",
    "plt.legend(loc = 'upper right')\n",
    "plt.show()"
   ]
  },
  {
   "cell_type": "markdown",
   "metadata": {},
   "source": [
    "## Dynamic covariance in portfolio optimization\n"
   ]
  },
  {
   "cell_type": "markdown",
   "metadata": {},
   "source": [
    "### Compute GARCH covariance\n"
   ]
  },
  {
   "cell_type": "code",
   "execution_count": null,
   "metadata": {},
   "outputs": [],
   "source": [
    "# Calculate correlation\n",
    "corr = np.corrcoef(resid_eur, resid_cad)[0,1]\n",
    "print('Correlation: ', corr)\n",
    "\n",
    "# Calculate GARCH covariance\n",
    "covariance =  vol_eur * vol_cad * corr\n",
    "\n",
    "# Plot the data\n",
    "plt.plot(covariance, color = 'gold')\n",
    "plt.title('GARCH Covariance')\n",
    "plt.show()"
   ]
  },
  {
   "cell_type": "markdown",
   "metadata": {},
   "source": [
    "### Compute dynamic portfolio variance"
   ]
  },
  {
   "cell_type": "code",
   "execution_count": null,
   "metadata": {},
   "outputs": [],
   "source": [
    "# Define weights\n",
    "Wa1 = 0.9\n",
    "Wa2 = 1 - Wa1\n",
    "Wb1 = 0.5\n",
    "Wb2 = 1 - Wb1\n",
    "\n",
    "# Calculate portfolio variance\n",
    "portvar_a = Wa1**2 * variance_eur + Wa2**2 * variance_cad + 2*Wa1*Wa2 *covariance\n",
    "portvar_b = Wb1**2 * variance_eur + Wb2**2 * variance_cad + 2*Wb1*Wb2*covariance\n",
    "\n",
    "# Plot the data\n",
    "plt.plot(portvar_a, color = 'green', label = 'Portfolio a')\n",
    "plt.plot(portvar_b, color = 'deepskyblue', label = 'Portfolio b')\n",
    "plt.legend(loc = 'upper right')\n",
    "plt.show()"
   ]
  },
  {
   "cell_type": "markdown",
   "metadata": {},
   "source": [
    "## Dynamic Beta in portfolio management\n"
   ]
  },
  {
   "cell_type": "markdown",
   "metadata": {},
   "source": [
    "### Compute dynamic stock Beta\n"
   ]
  },
  {
   "cell_type": "code",
   "execution_count": null,
   "metadata": {},
   "outputs": [],
   "source": [
    "# Compute correlation between SP500 and Tesla\n",
    "correlation = np.corrcoef(teslaGarch_resid, spGarch_resid)[0, 1]\n",
    "\n",
    "# Compute the Beta for Tesla\n",
    "stock_beta = correlation * (teslaGarch_vol / spGarch_vol)\n",
    "\n",
    "# Plot the Beta\n",
    "plt.title('Tesla Stock Beta')\n",
    "plt.plot(stock_beta)\n",
    "plt.show()"
   ]
  }
 ],
 "metadata": {
  "language_info": {
   "name": "python"
  },
  "orig_nbformat": 4
 },
 "nbformat": 4,
 "nbformat_minor": 2
}
